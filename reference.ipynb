{
 "cells": [
  {
   "cell_type": "markdown",
   "metadata": {},
   "source": [
    "# Converting File to CSV because of Excel Loading issues"
   ]
  },
  {
   "cell_type": "code",
   "execution_count": 1,
   "metadata": {},
   "outputs": [],
   "source": [
    "import pandas as pd\n",
    "\n",
    "\n",
    "df = pd.read_excel(\n",
    "    '/Users/hatim/Desktop/OCTAVE/spark exercise/Data/Colombo-Cab-data-2.xlsx',\n",
    "    sheet_name='Sheet 1 - Colombo-Cab-data',\n",
    "    header=1  # second row is the header\n",
    ")\n",
    "\n",
    "df['DropOff_Colombo_ID'] = df['DropOff_Colombo_ID'].round(0).astype(int)\n",
    "df.to_csv('/Users/hatim/Desktop/OCTAVE/spark exercise/Data/Colombo-Cab-data.csv', index=False)"
   ]
  },
  {
   "cell_type": "markdown",
   "metadata": {},
   "source": [
    "# Create Spark Session and load in data"
   ]
  },
  {
   "cell_type": "code",
   "execution_count": 2,
   "metadata": {},
   "outputs": [
    {
     "name": "stderr",
     "output_type": "stream",
     "text": [
      "25/05/23 14:11:12 WARN Utils: Your hostname, Macmanjee-2.local resolves to a loopback address: 127.0.0.1; using 192.168.1.30 instead (on interface en0)\n",
      "25/05/23 14:11:12 WARN Utils: Set SPARK_LOCAL_IP if you need to bind to another address\n",
      "Setting default log level to \"WARN\".\n",
      "To adjust logging level use sc.setLogLevel(newLevel). For SparkR, use setLogLevel(newLevel).\n",
      "25/05/23 14:11:14 WARN NativeCodeLoader: Unable to load native-hadoop library for your platform... using builtin-java classes where applicable\n"
     ]
    }
   ],
   "source": [
    "from pyspark.sql import SparkSession\n",
    "\n",
    "spark = SparkSession.builder \\\n",
    "    .config(\"spark.sql.repl.eagerEval.enabled\", True) \\\n",
    "    .appName(\"cabs\") \\\n",
    "    .master(\"local[*]\") \\\n",
    "    .getOrCreate()\n",
    "\n",
    "spark.sparkContext.setLogLevel(\"ERROR\")"
   ]
  },
  {
   "cell_type": "code",
   "execution_count": 3,
   "metadata": {},
   "outputs": [
    {
     "data": {
      "text/html": [
       "<table border='1'>\n",
       "<tr><th>Cab_Driver_ID</th><th>Gender</th><th>PickUp_Colombo_ID</th><th>DropOff_Colombo_ID</th><th>N_Passengers</th><th>Date</th><th>PickUp_Time</th><th>Duration_Min</th><th>Tip</th><th>Total_Amount</th></tr>\n",
       "<tr><td>5</td><td>M</td><td>2</td><td>7</td><td>1</td><td>2021-10-20</td><td>Day</td><td>25</td><td>4.56</td><td>26.31</td></tr>\n",
       "<tr><td>20</td><td>F</td><td>11</td><td>11</td><td>4</td><td>2021-09-03</td><td>Night</td><td>25</td><td>0.57</td><td>22.32</td></tr>\n",
       "<tr><td>16</td><td>F</td><td>11</td><td>12</td><td>1</td><td>2021-09-22</td><td>Day</td><td>48</td><td>3.89</td><td>45.65</td></tr>\n",
       "<tr><td>7</td><td>M</td><td>15</td><td>13</td><td>3</td><td>2021-07-19</td><td>Day</td><td>30</td><td>9.64</td><td>35.74</td></tr>\n",
       "<tr><td>15</td><td>F</td><td>5</td><td>13</td><td>1</td><td>2021-11-20</td><td>Day</td><td>37</td><td>5.12</td><td>37.31</td></tr>\n",
       "<tr><td>9</td><td>M</td><td>7</td><td>3</td><td>4</td><td>2021-12-07</td><td>Night</td><td>33</td><td>2.83</td><td>31.54</td></tr>\n",
       "<tr><td>3</td><td>M</td><td>14</td><td>3</td><td>3</td><td>2021-11-21</td><td>Day</td><td>34</td><td>1.03</td><td>30.61</td></tr>\n",
       "<tr><td>11</td><td>M</td><td>7</td><td>2</td><td>3</td><td>2021-10-01</td><td>Night</td><td>38</td><td>2.97</td><td>36.03</td></tr>\n",
       "<tr><td>4</td><td>M</td><td>11</td><td>6</td><td>4</td><td>2021-10-14</td><td>Night</td><td>38</td><td>2.34</td><td>35.4</td></tr>\n",
       "<tr><td>5</td><td>M</td><td>8</td><td>9</td><td>2</td><td>2021-09-27</td><td>Day</td><td>51</td><td>2.75</td><td>47.12</td></tr>\n",
       "<tr><td>1</td><td>M</td><td>1</td><td>14</td><td>4</td><td>2021-12-18</td><td>Night</td><td>19</td><td>9.81</td><td>26.34</td></tr>\n",
       "<tr><td>19</td><td>F</td><td>4</td><td>9</td><td>1</td><td>2021-11-07</td><td>Day</td><td>28</td><td>1.79</td><td>26.15</td></tr>\n",
       "<tr><td>12</td><td>M</td><td>15</td><td>5</td><td>4</td><td>2021-10-20</td><td>Night</td><td>10</td><td>3.11</td><td>11.81</td></tr>\n",
       "<tr><td>2</td><td>M</td><td>2</td><td>9</td><td>4</td><td>2021-08-16</td><td>Night</td><td>10</td><td>1.29</td><td>9.99</td></tr>\n",
       "<tr><td>6</td><td>M</td><td>10</td><td>2</td><td>1</td><td>2021-09-02</td><td>Day</td><td>7</td><td>1.81</td><td>7.9</td></tr>\n",
       "<tr><td>18</td><td>F</td><td>12</td><td>14</td><td>1</td><td>2021-08-25</td><td>Day</td><td>34</td><td>1.96</td><td>31.54</td></tr>\n",
       "<tr><td>2</td><td>M</td><td>1</td><td>8</td><td>4</td><td>2021-11-11</td><td>Day</td><td>38</td><td>2.54</td><td>35.6</td></tr>\n",
       "<tr><td>20</td><td>F</td><td>15</td><td>6</td><td>3</td><td>2021-10-01</td><td>Day</td><td>39</td><td>3.73</td><td>37.66</td></tr>\n",
       "<tr><td>5</td><td>M</td><td>2</td><td>12</td><td>4</td><td>2021-07-19</td><td>Day</td><td>47</td><td>9.21</td><td>50.1</td></tr>\n",
       "<tr><td>20</td><td>F</td><td>8</td><td>6</td><td>3</td><td>2021-09-06</td><td>Day</td><td>40</td><td>9.89</td><td>44.69</td></tr>\n",
       "</table>\n",
       "only showing top 20 rows\n"
      ],
      "text/plain": [
       "+-------------+------+-----------------+------------------+------------+----------+-----------+------------+----+------------+\n",
       "|Cab_Driver_ID|Gender|PickUp_Colombo_ID|DropOff_Colombo_ID|N_Passengers|      Date|PickUp_Time|Duration_Min| Tip|Total_Amount|\n",
       "+-------------+------+-----------------+------------------+------------+----------+-----------+------------+----+------------+\n",
       "|            5|     M|                2|                 7|           1|2021-10-20|        Day|          25|4.56|       26.31|\n",
       "|           20|     F|               11|                11|           4|2021-09-03|      Night|          25|0.57|       22.32|\n",
       "|           16|     F|               11|                12|           1|2021-09-22|        Day|          48|3.89|       45.65|\n",
       "|            7|     M|               15|                13|           3|2021-07-19|        Day|          30|9.64|       35.74|\n",
       "|           15|     F|                5|                13|           1|2021-11-20|        Day|          37|5.12|       37.31|\n",
       "|            9|     M|                7|                 3|           4|2021-12-07|      Night|          33|2.83|       31.54|\n",
       "|            3|     M|               14|                 3|           3|2021-11-21|        Day|          34|1.03|       30.61|\n",
       "|           11|     M|                7|                 2|           3|2021-10-01|      Night|          38|2.97|       36.03|\n",
       "|            4|     M|               11|                 6|           4|2021-10-14|      Night|          38|2.34|        35.4|\n",
       "|            5|     M|                8|                 9|           2|2021-09-27|        Day|          51|2.75|       47.12|\n",
       "|            1|     M|                1|                14|           4|2021-12-18|      Night|          19|9.81|       26.34|\n",
       "|           19|     F|                4|                 9|           1|2021-11-07|        Day|          28|1.79|       26.15|\n",
       "|           12|     M|               15|                 5|           4|2021-10-20|      Night|          10|3.11|       11.81|\n",
       "|            2|     M|                2|                 9|           4|2021-08-16|      Night|          10|1.29|        9.99|\n",
       "|            6|     M|               10|                 2|           1|2021-09-02|        Day|           7|1.81|         7.9|\n",
       "|           18|     F|               12|                14|           1|2021-08-25|        Day|          34|1.96|       31.54|\n",
       "|            2|     M|                1|                 8|           4|2021-11-11|        Day|          38|2.54|        35.6|\n",
       "|           20|     F|               15|                 6|           3|2021-10-01|        Day|          39|3.73|       37.66|\n",
       "|            5|     M|                2|                12|           4|2021-07-19|        Day|          47|9.21|        50.1|\n",
       "|           20|     F|                8|                 6|           3|2021-09-06|        Day|          40|9.89|       44.69|\n",
       "+-------------+------+-----------------+------------------+------------+----------+-----------+------------+----+------------+\n",
       "only showing top 20 rows"
      ]
     },
     "execution_count": 3,
     "metadata": {},
     "output_type": "execute_result"
    }
   ],
   "source": [
    "path = '/Users/hatim/Desktop/OCTAVE/spark exercise/Data/Colombo-Cab-data.csv'\n",
    "\n",
    "df = spark.read \\\n",
    "            .format(\"csv\") \\\n",
    "            .option(\"header\", \"true\") \\\n",
    "            .option(\"inferSchema\", \"true\") \\\n",
    "            .load(path)\n",
    "\n",
    "df"
   ]
  },
  {
   "cell_type": "markdown",
   "metadata": {},
   "source": [
    "# Part 1\n"
   ]
  },
  {
   "cell_type": "markdown",
   "metadata": {},
   "source": [
    "Descriptions\n",
    "- cab driver ID is a unique identifier for each cab driver (int). This is categorical in nature\n",
    "- gender is a binary variable (converting to 1 and 0 and labelling is_Male)\n",
    "- pickup and dropoff locations are categorical variables (converting to string)\n",
    "- N_passengers is an integer variable (its ordinal so we can leave it as it is)\n",
    "- Date is a data object\n",
    "- pickup time is a categorical variable (keep as string)\n",
    "- duration is an integer variable (keep as it is)\n",
    "- tip is a float and continuous variable\n",
    "- total amount is a float and continuous variable\n",
    "\n",
    "Note:\n",
    "- used the datawrangler extension to get a snapshot of the data. No missing values, Checked distributions, etc."
   ]
  },
  {
   "cell_type": "code",
   "execution_count": 4,
   "metadata": {},
   "outputs": [
    {
     "name": "stdout",
     "output_type": "stream",
     "text": [
      "root\n",
      " |-- Cab_Driver_ID: integer (nullable = true)\n",
      " |-- Gender: string (nullable = true)\n",
      " |-- PickUp_Colombo_ID: integer (nullable = true)\n",
      " |-- DropOff_Colombo_ID: integer (nullable = true)\n",
      " |-- N_Passengers: integer (nullable = true)\n",
      " |-- Date: date (nullable = true)\n",
      " |-- PickUp_Time: string (nullable = true)\n",
      " |-- Duration_Min: integer (nullable = true)\n",
      " |-- Tip: double (nullable = true)\n",
      " |-- Total_Amount: double (nullable = true)\n",
      "\n"
     ]
    }
   ],
   "source": [
    "df.printSchema()"
   ]
  },
  {
   "cell_type": "markdown",
   "metadata": {},
   "source": [
    "## Do Some Preprocessing"
   ]
  },
  {
   "cell_type": "code",
   "execution_count": 5,
   "metadata": {},
   "outputs": [],
   "source": [
    "from pyspark.sql.functions import when\n",
    "\n",
    "# convert gender to a binary variable\n",
    "df = df.withColumn(\"Gender\", when(df[\"Gender\"] == \"M\", 1).otherwise(0))\n",
    "df = df.withColumnRenamed(\"Gender\", \"IsMale\") # rename the column to IsMale\n"
   ]
  },
  {
   "cell_type": "code",
   "execution_count": 6,
   "metadata": {},
   "outputs": [],
   "source": [
    "# convert drop off and pickup to string\n",
    "df = df.withColumn(\"PickUp_Colombo_ID\", df[\"PickUp_Colombo_ID\"].cast(\"string\"))\n",
    "df = df.withColumn(\"DropOff_Colombo_ID\", df[\"DropOff_Colombo_ID\"].cast(\"string\"))"
   ]
  },
  {
   "cell_type": "markdown",
   "metadata": {},
   "source": [
    "Notes for regression\n",
    "- one hot encode pickup and dropoff locations - they're categorical variables. same for pickup time\n",
    "- For Date, maybe create some fourier terms (but interpretability might be problematic) or extract the day, day of week, and month as categorical variables\n",
    "- There will most likely be a close interaction between tip and total amount so need to do something about that when predicting (lookahead bias)"
   ]
  },
  {
   "cell_type": "code",
   "execution_count": 7,
   "metadata": {},
   "outputs": [
    {
     "data": {
      "text/html": [
       "<table border='1'>\n",
       "<tr><th>Cab_Driver_ID</th><th>IsMale</th><th>PickUp_Colombo_ID</th><th>DropOff_Colombo_ID</th><th>N_Passengers</th><th>Date</th><th>PickUp_Time</th><th>Duration_Min</th><th>Tip</th><th>Total_Amount</th></tr>\n",
       "<tr><td>5</td><td>1</td><td>2</td><td>7</td><td>1</td><td>2021-10-20</td><td>Day</td><td>25</td><td>4.56</td><td>26.31</td></tr>\n",
       "<tr><td>20</td><td>0</td><td>11</td><td>11</td><td>4</td><td>2021-09-03</td><td>Night</td><td>25</td><td>0.57</td><td>22.32</td></tr>\n",
       "<tr><td>16</td><td>0</td><td>11</td><td>12</td><td>1</td><td>2021-09-22</td><td>Day</td><td>48</td><td>3.89</td><td>45.65</td></tr>\n",
       "<tr><td>7</td><td>1</td><td>15</td><td>13</td><td>3</td><td>2021-07-19</td><td>Day</td><td>30</td><td>9.64</td><td>35.74</td></tr>\n",
       "<tr><td>15</td><td>0</td><td>5</td><td>13</td><td>1</td><td>2021-11-20</td><td>Day</td><td>37</td><td>5.12</td><td>37.31</td></tr>\n",
       "<tr><td>9</td><td>1</td><td>7</td><td>3</td><td>4</td><td>2021-12-07</td><td>Night</td><td>33</td><td>2.83</td><td>31.54</td></tr>\n",
       "<tr><td>3</td><td>1</td><td>14</td><td>3</td><td>3</td><td>2021-11-21</td><td>Day</td><td>34</td><td>1.03</td><td>30.61</td></tr>\n",
       "<tr><td>11</td><td>1</td><td>7</td><td>2</td><td>3</td><td>2021-10-01</td><td>Night</td><td>38</td><td>2.97</td><td>36.03</td></tr>\n",
       "<tr><td>4</td><td>1</td><td>11</td><td>6</td><td>4</td><td>2021-10-14</td><td>Night</td><td>38</td><td>2.34</td><td>35.4</td></tr>\n",
       "<tr><td>5</td><td>1</td><td>8</td><td>9</td><td>2</td><td>2021-09-27</td><td>Day</td><td>51</td><td>2.75</td><td>47.12</td></tr>\n",
       "<tr><td>1</td><td>1</td><td>1</td><td>14</td><td>4</td><td>2021-12-18</td><td>Night</td><td>19</td><td>9.81</td><td>26.34</td></tr>\n",
       "<tr><td>19</td><td>0</td><td>4</td><td>9</td><td>1</td><td>2021-11-07</td><td>Day</td><td>28</td><td>1.79</td><td>26.15</td></tr>\n",
       "<tr><td>12</td><td>1</td><td>15</td><td>5</td><td>4</td><td>2021-10-20</td><td>Night</td><td>10</td><td>3.11</td><td>11.81</td></tr>\n",
       "<tr><td>2</td><td>1</td><td>2</td><td>9</td><td>4</td><td>2021-08-16</td><td>Night</td><td>10</td><td>1.29</td><td>9.99</td></tr>\n",
       "<tr><td>6</td><td>1</td><td>10</td><td>2</td><td>1</td><td>2021-09-02</td><td>Day</td><td>7</td><td>1.81</td><td>7.9</td></tr>\n",
       "<tr><td>18</td><td>0</td><td>12</td><td>14</td><td>1</td><td>2021-08-25</td><td>Day</td><td>34</td><td>1.96</td><td>31.54</td></tr>\n",
       "<tr><td>2</td><td>1</td><td>1</td><td>8</td><td>4</td><td>2021-11-11</td><td>Day</td><td>38</td><td>2.54</td><td>35.6</td></tr>\n",
       "<tr><td>20</td><td>0</td><td>15</td><td>6</td><td>3</td><td>2021-10-01</td><td>Day</td><td>39</td><td>3.73</td><td>37.66</td></tr>\n",
       "<tr><td>5</td><td>1</td><td>2</td><td>12</td><td>4</td><td>2021-07-19</td><td>Day</td><td>47</td><td>9.21</td><td>50.1</td></tr>\n",
       "<tr><td>20</td><td>0</td><td>8</td><td>6</td><td>3</td><td>2021-09-06</td><td>Day</td><td>40</td><td>9.89</td><td>44.69</td></tr>\n",
       "</table>\n",
       "only showing top 20 rows\n"
      ],
      "text/plain": [
       "+-------------+------+-----------------+------------------+------------+----------+-----------+------------+----+------------+\n",
       "|Cab_Driver_ID|IsMale|PickUp_Colombo_ID|DropOff_Colombo_ID|N_Passengers|      Date|PickUp_Time|Duration_Min| Tip|Total_Amount|\n",
       "+-------------+------+-----------------+------------------+------------+----------+-----------+------------+----+------------+\n",
       "|            5|     1|                2|                 7|           1|2021-10-20|        Day|          25|4.56|       26.31|\n",
       "|           20|     0|               11|                11|           4|2021-09-03|      Night|          25|0.57|       22.32|\n",
       "|           16|     0|               11|                12|           1|2021-09-22|        Day|          48|3.89|       45.65|\n",
       "|            7|     1|               15|                13|           3|2021-07-19|        Day|          30|9.64|       35.74|\n",
       "|           15|     0|                5|                13|           1|2021-11-20|        Day|          37|5.12|       37.31|\n",
       "|            9|     1|                7|                 3|           4|2021-12-07|      Night|          33|2.83|       31.54|\n",
       "|            3|     1|               14|                 3|           3|2021-11-21|        Day|          34|1.03|       30.61|\n",
       "|           11|     1|                7|                 2|           3|2021-10-01|      Night|          38|2.97|       36.03|\n",
       "|            4|     1|               11|                 6|           4|2021-10-14|      Night|          38|2.34|        35.4|\n",
       "|            5|     1|                8|                 9|           2|2021-09-27|        Day|          51|2.75|       47.12|\n",
       "|            1|     1|                1|                14|           4|2021-12-18|      Night|          19|9.81|       26.34|\n",
       "|           19|     0|                4|                 9|           1|2021-11-07|        Day|          28|1.79|       26.15|\n",
       "|           12|     1|               15|                 5|           4|2021-10-20|      Night|          10|3.11|       11.81|\n",
       "|            2|     1|                2|                 9|           4|2021-08-16|      Night|          10|1.29|        9.99|\n",
       "|            6|     1|               10|                 2|           1|2021-09-02|        Day|           7|1.81|         7.9|\n",
       "|           18|     0|               12|                14|           1|2021-08-25|        Day|          34|1.96|       31.54|\n",
       "|            2|     1|                1|                 8|           4|2021-11-11|        Day|          38|2.54|        35.6|\n",
       "|           20|     0|               15|                 6|           3|2021-10-01|        Day|          39|3.73|       37.66|\n",
       "|            5|     1|                2|                12|           4|2021-07-19|        Day|          47|9.21|        50.1|\n",
       "|           20|     0|                8|                 6|           3|2021-09-06|        Day|          40|9.89|       44.69|\n",
       "+-------------+------+-----------------+------------------+------------+----------+-----------+------------+----+------------+\n",
       "only showing top 20 rows"
      ]
     },
     "execution_count": 7,
     "metadata": {},
     "output_type": "execute_result"
    }
   ],
   "source": [
    "df"
   ]
  },
  {
   "cell_type": "markdown",
   "metadata": {},
   "source": [
    "# Part 2"
   ]
  },
  {
   "cell_type": "code",
   "execution_count": 8,
   "metadata": {},
   "outputs": [],
   "source": [
    "cats = ['Cab_Driver_ID', 'PickUp_Colombo_ID', 'DropOff_Colombo_ID', 'PickUp_Time']\n",
    "nums = ['IsMale', 'N_Passengers', 'Duration_Min', 'Tip', 'Total_Amount']\n",
    "date = ['Date']\n",
    "    "
   ]
  },
  {
   "cell_type": "markdown",
   "metadata": {},
   "source": [
    "## Numerical Features"
   ]
  },
  {
   "cell_type": "code",
   "execution_count": 9,
   "metadata": {},
   "outputs": [
    {
     "data": {
      "text/html": [
       "<table border='1'>\n",
       "<tr><th>summary</th><th>IsMale</th><th>N_Passengers</th><th>Duration_Min</th><th>Tip</th><th>Total_Amount</th><th>PickUp_Colombo_ID</th><th>DropOff_Colombo_ID</th></tr>\n",
       "<tr><td>count</td><td>999</td><td>999</td><td>999</td><td>999</td><td>999</td><td>999</td><td>999</td></tr>\n",
       "<tr><td>mean</td><td>0.6316316316316316</td><td>2.4824824824824825</td><td>30.47747747747748</td><td>4.985955955955961</td><td>31.50136136136136</td><td>7.914914914914915</td><td>7.85985985985986</td></tr>\n",
       "<tr><td>stddev</td><td>0.4826036188699095</td><td>1.129599678785395</td><td>14.594768163926451</td><td>2.9691041782505154</td><td>12.96989724777279</td><td>4.3316618469682915</td><td>4.388496117889801</td></tr>\n",
       "<tr><td>min</td><td>0</td><td>1</td><td>7</td><td>0.0</td><td>6.39</td><td>1</td><td>0</td></tr>\n",
       "<tr><td>25%</td><td>0</td><td>1</td><td>17</td><td>2.37</td><td>20.28</td><td>4</td><td>4</td></tr>\n",
       "<tr><td>50%</td><td>1</td><td>2</td><td>30</td><td>5.04</td><td>31.56</td><td>8</td><td>8</td></tr>\n",
       "<tr><td>75%</td><td>1</td><td>3</td><td>43</td><td>7.51</td><td>42.19</td><td>12</td><td>12</td></tr>\n",
       "<tr><td>max</td><td>1</td><td>4</td><td>55</td><td>9.99</td><td>57.35</td><td>15</td><td>15</td></tr>\n",
       "</table>\n"
      ],
      "text/plain": [
       "+-------+------------------+------------------+------------------+------------------+-----------------+------------------+------------------+\n",
       "|summary|            IsMale|      N_Passengers|      Duration_Min|               Tip|     Total_Amount| PickUp_Colombo_ID|DropOff_Colombo_ID|\n",
       "+-------+------------------+------------------+------------------+------------------+-----------------+------------------+------------------+\n",
       "|  count|               999|               999|               999|               999|              999|               999|               999|\n",
       "|   mean|0.6316316316316316|2.4824824824824825| 30.47747747747748| 4.985955955955961|31.50136136136136| 7.914914914914915|  7.85985985985986|\n",
       "| stddev|0.4826036188699095| 1.129599678785395|14.594768163926451|2.9691041782505154|12.96989724777279|4.3316618469682915| 4.388496117889801|\n",
       "|    min|                 0|                 1|                 7|               0.0|             6.39|                 1|                 0|\n",
       "|    25%|                 0|                 1|                17|              2.37|            20.28|                 4|                 4|\n",
       "|    50%|                 1|                 2|                30|              5.04|            31.56|                 8|                 8|\n",
       "|    75%|                 1|                 3|                43|              7.51|            42.19|                12|                12|\n",
       "|    max|                 1|                 4|                55|              9.99|            57.35|                15|                15|\n",
       "+-------+------------------+------------------+------------------+------------------+-----------------+------------------+------------------+"
      ]
     },
     "execution_count": 9,
     "metadata": {},
     "output_type": "execute_result"
    }
   ],
   "source": [
    "numerical_df = df.select(nums+['PickUp_Colombo_ID', 'DropOff_Colombo_ID'])\n",
    "\n",
    "numerical_df = numerical_df.withColumn(\"PickUp_Colombo_ID\", numerical_df[\"PickUp_Colombo_ID\"].cast(\"Int\"))\n",
    "numerical_df = numerical_df.withColumn(\"DropOff_Colombo_ID\", numerical_df[\"DropOff_Colombo_ID\"].cast(\"Int\"))\n",
    "\n",
    "num_summary = numerical_df.summary()\n",
    "\n",
    "num_summary"
   ]
  },
  {
   "cell_type": "markdown",
   "metadata": {},
   "source": [
    "## Categorical Features\n"
   ]
  },
  {
   "cell_type": "code",
   "execution_count": 10,
   "metadata": {},
   "outputs": [],
   "source": [
    "def get_counts(df):\n",
    "    for cat in df.columns:\n",
    "        counts =  df.groupBy(cat).count().orderBy(\"count\", ascending=False)\n",
    "        counts = counts.toPandas().set_index(cat)\n",
    "        yield counts.T\n",
    "\n",
    "\n",
    "\n",
    "generator = get_counts(df.select(cats+['Date']))"
   ]
  },
  {
   "cell_type": "code",
   "execution_count": 11,
   "metadata": {},
   "outputs": [
    {
     "data": {
      "text/html": [
       "<div>\n",
       "<style scoped>\n",
       "    .dataframe tbody tr th:only-of-type {\n",
       "        vertical-align: middle;\n",
       "    }\n",
       "\n",
       "    .dataframe tbody tr th {\n",
       "        vertical-align: top;\n",
       "    }\n",
       "\n",
       "    .dataframe thead th {\n",
       "        text-align: right;\n",
       "    }\n",
       "</style>\n",
       "<table border=\"1\" class=\"dataframe\">\n",
       "  <thead>\n",
       "    <tr style=\"text-align: right;\">\n",
       "      <th>Cab_Driver_ID</th>\n",
       "      <th>18</th>\n",
       "      <th>11</th>\n",
       "      <th>14</th>\n",
       "      <th>5</th>\n",
       "      <th>12</th>\n",
       "      <th>13</th>\n",
       "      <th>20</th>\n",
       "      <th>17</th>\n",
       "      <th>8</th>\n",
       "      <th>3</th>\n",
       "      <th>15</th>\n",
       "      <th>4</th>\n",
       "      <th>1</th>\n",
       "      <th>16</th>\n",
       "      <th>6</th>\n",
       "      <th>19</th>\n",
       "      <th>9</th>\n",
       "      <th>10</th>\n",
       "      <th>7</th>\n",
       "      <th>2</th>\n",
       "    </tr>\n",
       "  </thead>\n",
       "  <tbody>\n",
       "    <tr>\n",
       "      <th>count</th>\n",
       "      <td>63</td>\n",
       "      <td>62</td>\n",
       "      <td>58</td>\n",
       "      <td>56</td>\n",
       "      <td>54</td>\n",
       "      <td>53</td>\n",
       "      <td>53</td>\n",
       "      <td>52</td>\n",
       "      <td>52</td>\n",
       "      <td>48</td>\n",
       "      <td>48</td>\n",
       "      <td>48</td>\n",
       "      <td>47</td>\n",
       "      <td>47</td>\n",
       "      <td>47</td>\n",
       "      <td>47</td>\n",
       "      <td>47</td>\n",
       "      <td>44</td>\n",
       "      <td>37</td>\n",
       "      <td>36</td>\n",
       "    </tr>\n",
       "  </tbody>\n",
       "</table>\n",
       "</div>"
      ],
      "text/plain": [
       "Cab_Driver_ID  18  11  14  5   12  13  20  17  8   3   15  4   1   16  6   19  \\\n",
       "count          63  62  58  56  54  53  53  52  52  48  48  48  47  47  47  47   \n",
       "\n",
       "Cab_Driver_ID  9   10  7   2   \n",
       "count          47  44  37  36  "
      ]
     },
     "execution_count": 11,
     "metadata": {},
     "output_type": "execute_result"
    }
   ],
   "source": [
    "next(generator)"
   ]
  },
  {
   "cell_type": "code",
   "execution_count": 12,
   "metadata": {},
   "outputs": [
    {
     "data": {
      "text/html": [
       "<div>\n",
       "<style scoped>\n",
       "    .dataframe tbody tr th:only-of-type {\n",
       "        vertical-align: middle;\n",
       "    }\n",
       "\n",
       "    .dataframe tbody tr th {\n",
       "        vertical-align: top;\n",
       "    }\n",
       "\n",
       "    .dataframe thead th {\n",
       "        text-align: right;\n",
       "    }\n",
       "</style>\n",
       "<table border=\"1\" class=\"dataframe\">\n",
       "  <thead>\n",
       "    <tr style=\"text-align: right;\">\n",
       "      <th>PickUp_Colombo_ID</th>\n",
       "      <th>14</th>\n",
       "      <th>10</th>\n",
       "      <th>4</th>\n",
       "      <th>1</th>\n",
       "      <th>7</th>\n",
       "      <th>3</th>\n",
       "      <th>5</th>\n",
       "      <th>2</th>\n",
       "      <th>8</th>\n",
       "      <th>9</th>\n",
       "      <th>11</th>\n",
       "      <th>13</th>\n",
       "      <th>15</th>\n",
       "      <th>6</th>\n",
       "      <th>12</th>\n",
       "    </tr>\n",
       "  </thead>\n",
       "  <tbody>\n",
       "    <tr>\n",
       "      <th>count</th>\n",
       "      <td>80</td>\n",
       "      <td>79</td>\n",
       "      <td>71</td>\n",
       "      <td>70</td>\n",
       "      <td>69</td>\n",
       "      <td>69</td>\n",
       "      <td>68</td>\n",
       "      <td>67</td>\n",
       "      <td>65</td>\n",
       "      <td>65</td>\n",
       "      <td>61</td>\n",
       "      <td>60</td>\n",
       "      <td>59</td>\n",
       "      <td>59</td>\n",
       "      <td>57</td>\n",
       "    </tr>\n",
       "  </tbody>\n",
       "</table>\n",
       "</div>"
      ],
      "text/plain": [
       "PickUp_Colombo_ID  14  10   4   1   7   3   5   2   8   9  11  13  15   6  12\n",
       "count              80  79  71  70  69  69  68  67  65  65  61  60  59  59  57"
      ]
     },
     "execution_count": 12,
     "metadata": {},
     "output_type": "execute_result"
    }
   ],
   "source": [
    "next(generator)"
   ]
  },
  {
   "cell_type": "code",
   "execution_count": 13,
   "metadata": {},
   "outputs": [
    {
     "data": {
      "text/html": [
       "<div>\n",
       "<style scoped>\n",
       "    .dataframe tbody tr th:only-of-type {\n",
       "        vertical-align: middle;\n",
       "    }\n",
       "\n",
       "    .dataframe tbody tr th {\n",
       "        vertical-align: top;\n",
       "    }\n",
       "\n",
       "    .dataframe thead th {\n",
       "        text-align: right;\n",
       "    }\n",
       "</style>\n",
       "<table border=\"1\" class=\"dataframe\">\n",
       "  <thead>\n",
       "    <tr style=\"text-align: right;\">\n",
       "      <th>DropOff_Colombo_ID</th>\n",
       "      <th>14</th>\n",
       "      <th>10</th>\n",
       "      <th>12</th>\n",
       "      <th>13</th>\n",
       "      <th>8</th>\n",
       "      <th>5</th>\n",
       "      <th>9</th>\n",
       "      <th>6</th>\n",
       "      <th>7</th>\n",
       "      <th>3</th>\n",
       "      <th>11</th>\n",
       "      <th>2</th>\n",
       "      <th>1</th>\n",
       "      <th>4</th>\n",
       "      <th>15</th>\n",
       "      <th>0</th>\n",
       "    </tr>\n",
       "  </thead>\n",
       "  <tbody>\n",
       "    <tr>\n",
       "      <th>count</th>\n",
       "      <td>80</td>\n",
       "      <td>78</td>\n",
       "      <td>70</td>\n",
       "      <td>69</td>\n",
       "      <td>68</td>\n",
       "      <td>67</td>\n",
       "      <td>67</td>\n",
       "      <td>66</td>\n",
       "      <td>64</td>\n",
       "      <td>63</td>\n",
       "      <td>61</td>\n",
       "      <td>59</td>\n",
       "      <td>58</td>\n",
       "      <td>52</td>\n",
       "      <td>43</td>\n",
       "      <td>34</td>\n",
       "    </tr>\n",
       "  </tbody>\n",
       "</table>\n",
       "</div>"
      ],
      "text/plain": [
       "DropOff_Colombo_ID  14  10  12  13   8   5   9   6   7   3  11   2   1   4  \\\n",
       "count               80  78  70  69  68  67  67  66  64  63  61  59  58  52   \n",
       "\n",
       "DropOff_Colombo_ID  15   0  \n",
       "count               43  34  "
      ]
     },
     "execution_count": 13,
     "metadata": {},
     "output_type": "execute_result"
    }
   ],
   "source": [
    "next(generator)"
   ]
  },
  {
   "cell_type": "code",
   "execution_count": 14,
   "metadata": {},
   "outputs": [
    {
     "name": "stdout",
     "output_type": "stream",
     "text": [
      "+-------------+------+-----------------+------------------+------------+----------+-----------+------------+----+------------+\n",
      "|Cab_Driver_ID|IsMale|PickUp_Colombo_ID|DropOff_Colombo_ID|N_Passengers|      Date|PickUp_Time|Duration_Min| Tip|Total_Amount|\n",
      "+-------------+------+-----------------+------------------+------------+----------+-----------+------------+----+------------+\n",
      "|           14|     0|                1|                 0|           2|2021-08-01|      Night|          32|4.27|       32.11|\n",
      "|            2|     1|               13|                 0|           3|2021-11-07|        Day|          36|7.07|       38.39|\n",
      "|            5|     1|                7|                 0|           2|2021-11-01|        Day|          26|1.38|        24.0|\n",
      "|           15|     0|               12|                 0|           4|2021-12-17|        Day|           7|0.81|         6.9|\n",
      "|            6|     1|                9|                 0|           2|2021-10-12|        Day|          39|2.39|       36.32|\n",
      "|           18|     0|                8|                 0|           3|2021-12-21|        Day|          10|9.72|       18.42|\n",
      "|            5|     1|                5|                 0|           1|2021-08-13|        Day|           9|9.37|        17.2|\n",
      "|           12|     1|               15|                 0|           4|2021-09-03|        Day|          38|7.68|       40.74|\n",
      "|            8|     1|                2|                 0|           4|2021-09-03|        Day|          41|8.86|       44.53|\n",
      "|            9|     1|                6|                 0|           4|2021-11-19|        Day|          51|8.11|       52.48|\n",
      "|            6|     1|                9|                 0|           1|2021-07-12|      Night|          16|5.82|       19.74|\n",
      "|           14|     0|               14|                 0|           2|2021-08-20|        Day|          31|8.15|       35.12|\n",
      "|           12|     1|               10|                 0|           2|2021-09-26|        Day|          53|3.06|       49.17|\n",
      "|            2|     1|                8|                 0|           3|2021-12-28|        Day|          27|3.85|       27.34|\n",
      "|           16|     0|                4|                 0|           1|2021-08-03|        Day|          31|1.38|       28.35|\n",
      "|           20|     0|                2|                 0|           1|2021-07-25|      Night|           7|0.77|        6.86|\n",
      "|            9|     1|                1|                 0|           3|2021-12-10|      Night|          51|7.81|       52.18|\n",
      "|           15|     0|                7|                 0|           4|2021-07-22|        Day|           8|1.66|        8.62|\n",
      "|            7|     1|                8|                 0|           3|2021-12-16|        Day|           9| 2.6|       10.43|\n",
      "|            3|     1|                5|                 0|           2|2021-09-24|      Night|          44|9.99|       48.27|\n",
      "+-------------+------+-----------------+------------------+------------+----------+-----------+------------+----+------------+\n",
      "only showing top 20 rows\n",
      "\n"
     ]
    }
   ],
   "source": [
    "# explore colombo 0 dropoff - these look like valid routes - they are most likely when dropoff is in the suburbs and pickup is in the city so we leave them as is\n",
    "df.filter(df[\"DropOff_Colombo_ID\"] == 0).show()"
   ]
  },
  {
   "cell_type": "code",
   "execution_count": 15,
   "metadata": {},
   "outputs": [
    {
     "data": {
      "text/html": [
       "<div>\n",
       "<style scoped>\n",
       "    .dataframe tbody tr th:only-of-type {\n",
       "        vertical-align: middle;\n",
       "    }\n",
       "\n",
       "    .dataframe tbody tr th {\n",
       "        vertical-align: top;\n",
       "    }\n",
       "\n",
       "    .dataframe thead th {\n",
       "        text-align: right;\n",
       "    }\n",
       "</style>\n",
       "<table border=\"1\" class=\"dataframe\">\n",
       "  <thead>\n",
       "    <tr style=\"text-align: right;\">\n",
       "      <th>PickUp_Time</th>\n",
       "      <th>Day</th>\n",
       "      <th>Night</th>\n",
       "    </tr>\n",
       "  </thead>\n",
       "  <tbody>\n",
       "    <tr>\n",
       "      <th>count</th>\n",
       "      <td>686</td>\n",
       "      <td>313</td>\n",
       "    </tr>\n",
       "  </tbody>\n",
       "</table>\n",
       "</div>"
      ],
      "text/plain": [
       "PickUp_Time  Day  Night\n",
       "count        686    313"
      ]
     },
     "execution_count": 15,
     "metadata": {},
     "output_type": "execute_result"
    }
   ],
   "source": [
    "next(generator)"
   ]
  },
  {
   "cell_type": "markdown",
   "metadata": {},
   "source": [
    "## Dates"
   ]
  },
  {
   "cell_type": "code",
   "execution_count": 16,
   "metadata": {},
   "outputs": [
    {
     "name": "stdout",
     "output_type": "stream",
     "text": [
      "Earliest Date: 2021-07-01\n",
      "Latest Date: 2021-12-31\n",
      "Number of Distinct Dates: 183\n",
      "Total Number of Dates: 999\n"
     ]
    }
   ],
   "source": [
    "from pyspark.sql.functions import col, min, max, countDistinct, count\n",
    "\n",
    "date_summary = df.select(\n",
    "    min(col(\"Date\")).alias(\"earliest_date\"),\n",
    "    max(col(\"Date\")).alias(\"latest_date\"),\n",
    "    countDistinct(col(\"Date\")).alias(\"distinct_dates_count\"),\n",
    "    count(col(\"Date\")).alias(\"total_dates_count\")\n",
    ").first()\n",
    "\n",
    "\n",
    "print(f\"Earliest Date: {date_summary['earliest_date']}\")\n",
    "print(f\"Latest Date: {date_summary['latest_date']}\")\n",
    "print(f\"Number of Distinct Dates: {date_summary['distinct_dates_count']}\")\n",
    "print(f\"Total Number of Dates: {date_summary['total_dates_count']}\")"
   ]
  },
  {
   "cell_type": "markdown",
   "metadata": {},
   "source": [
    "# Part 3"
   ]
  },
  {
   "cell_type": "code",
   "execution_count": 17,
   "metadata": {},
   "outputs": [],
   "source": [
    "import matplotlib.pyplot as plt\n",
    "import seaborn as sns"
   ]
  },
  {
   "cell_type": "markdown",
   "metadata": {},
   "source": [
    "## Part A"
   ]
  },
  {
   "cell_type": "markdown",
   "metadata": {},
   "source": [
    "We can do this in 2 different ways:\n",
    "1. Average the entire nightly series - this is the average trip amount nightly\n",
    "2. Get how much each driver makes on average per night and get the average of that - this is the average trip amount per driver nightly\n",
    "\n",
    "Results:\n",
    "- Average trip amount per driver per night: 31.42\n",
    "- From the first plot it seems like male and femaile drivers make similar amounts per night on average and the histogram also seems to support this. t-test confirms that there is no statistically significant difference\n",
    "\n",
    "\n"
   ]
  },
  {
   "cell_type": "code",
   "execution_count": 18,
   "metadata": {},
   "outputs": [
    {
     "name": "stdout",
     "output_type": "stream",
     "text": [
      "Average trip amount per night: 31.65\n",
      "CodeCache: size=131072Kb used=38534Kb max_used=38546Kb free=92537Kb\n",
      " bounds [0x00000001099f8000, 0x000000010bfd8000, 0x00000001119f8000]\n",
      " total_blobs=13521 nmethods=12536 adapters=892\n",
      " compilation: disabled (not enough contiguous free space left)\n",
      "Average trip amount per driver per night: 31.42\n"
     ]
    },
    {
     "name": "stderr",
     "output_type": "stream",
     "text": [
      "Java HotSpot(TM) 64-Bit Server VM warning: CodeCache is full. Compiler has been disabled.\n",
      "Java HotSpot(TM) 64-Bit Server VM warning: Try increasing the code cache size using -XX:ReservedCodeCacheSize=\n"
     ]
    },
    {
     "data": {
      "image/png": "[encoded data removed]",
      "text/plain": [
       "<Figure size 1000x600 with 1 Axes>"
      ]
     },
     "metadata": {},
     "output_type": "display_data"
    }
   ],
   "source": [
    "from pyspark.sql.functions import mean\n",
    "\n",
    "# filter for night time\n",
    "driver_night = df.filter(df[\"PickUp_Time\"] == \"Night\").select(\"Cab_Driver_ID\", 'Total_Amount', 'IsMale')\n",
    "\n",
    "\n",
    "# aproach 1 - average trip amount nightly\n",
    "total_mean = driver_night.agg(mean(\"Total_Amount\")).first()[0]\n",
    "print(f\"Average trip amount per night: {round(total_mean, 2)}\")\n",
    "\n",
    "\n",
    "# aproach 2 - average trip amount per driver nightly\n",
    "# get how much each driver makes nightly on average\n",
    "per_driver = driver_night.groupBy(\"Cab_Driver_ID\").agg(mean(\"Total_Amount\").alias(\"mean_total_amount\"), mean(\"IsMale\").alias(\"isMale\"))\n",
    "\n",
    "# get the average of series\n",
    "per_driver_mean = per_driver.agg(mean(\"mean_total_amount\")).first()[0]\n",
    "print(f\"Average trip amount per driver per night: {round(per_driver_mean, 2)}\")\n",
    "\n",
    "\n",
    "\n",
    "# plot per_driver earnings as a bar chart\n",
    "fig = plt.figure(figsize=(10, 6))\n",
    "sns.barplot(y=\"mean_total_amount\", x=\"Cab_Driver_ID\", hue='isMale',data=per_driver.toPandas())\n",
    "plt.title(\"Average Trip Amount per Driver per Night\")\n",
    "plt.show()\n"
   ]
  },
  {
   "cell_type": "code",
   "execution_count": 19,
   "metadata": {},
   "outputs": [
    {
     "name": "stdout",
     "output_type": "stream",
     "text": [
      "Male Mean Fare: 31.5066561014263 (N = 631)\n",
      "Female Mean Fare: 31.492282608695653 (N = 368)\n"
     ]
    },
    {
     "data": {
      "image/png": "[encoded data removed]",
      "text/plain": [
       "<Figure size 1000x600 with 1 Axes>"
      ]
     },
     "metadata": {},
     "output_type": "display_data"
    }
   ],
   "source": [
    "# count number of males and females\n",
    "male_fares = df.filter(df[\"IsMale\"] == 1).toPandas()['Total_Amount']\n",
    "female_fares = df.filter(df[\"IsMale\"] == 0).toPandas()['Total_Amount']\n",
    "print(f\"Male Mean Fare: {male_fares.mean()} (N = {male_fares.count()})\")\n",
    "print(f\"Female Mean Fare: {female_fares.mean()} (N = {female_fares.count()})\")\n",
    "\n",
    "# plot an overlayed histogram of the fares by gender. count should be on the axis axis\n",
    "fig = plt.figure(figsize=(10, 6))\n",
    "sns.histplot(male_fares, label=\"Male\", alpha=0.5)\n",
    "sns.histplot(female_fares, label=\"Female\", alpha=0.5)\n",
    "plt.title(\"Distribution of Fares by Gender\")\n",
    "plt.legend()\n",
    "plt.show()"
   ]
  },
  {
   "cell_type": "code",
   "execution_count": 20,
   "metadata": {},
   "outputs": [
    {
     "name": "stdout",
     "output_type": "stream",
     "text": [
      "T-test p-value: 0.9865297861011163\n",
      "Fail to reject the null hypothesis\n"
     ]
    }
   ],
   "source": [
    "from scipy.stats import ttest_ind\n",
    "\n",
    "t_statistic, p_value_ttest = ttest_ind(male_fares, female_fares, equal_var=True, alternative='two-sided')\n",
    "print(f\"T-test p-value: {p_value_ttest}\")\n",
    "if p_value_ttest < 0.05:\n",
    "    print(\"Reject the null hypothesis\")\n",
    "else:\n",
    "    print(\"Fail to reject the null hypothesis\")"
   ]
  },
  {
   "cell_type": "markdown",
   "metadata": {},
   "source": [
    "## Part B\n",
    "\n"
   ]
  },
  {
   "cell_type": "markdown",
   "metadata": {},
   "source": [
    "$H_0$: There is no difference in the average money made on weekends\n",
    "\n",
    "$H_1$: Cab drivers make more money on weekends compared to weekdays.\n",
    "\n",
    "Assumptions of 2 sample t-test:\n",
    "- Independence of observations: This we can assume to be true as the data is collected from different days and different drivers.\n",
    "- Normality: Our samples are fairly large so the t-test should be robust to violations of normality.\n",
    "- Equal variances : This we need to check using a F-test for equal variances.\n",
    "\n",
    "Result:\n",
    "- We fail to reject the null hypothesis. There is not enough evidence to say that cab drivers make more money on weekends compared to weekdays."
   ]
  },
  {
   "cell_type": "code",
   "execution_count": 21,
   "metadata": {},
   "outputs": [
    {
     "name": "stdout",
     "output_type": "stream",
     "text": [
      "Average trip amount on weekends: 32.37 (N = 305)\n",
      "Average trip amount on weekdays: 31.12 (N = 694)\n"
     ]
    }
   ],
   "source": [
    "from pyspark.sql.functions import date_format\n",
    "import numpy as np\n",
    "\n",
    "# add a column for the day of the week\n",
    "df = df.withColumn(\"DayOfWeek\", date_format(col(\"Date\"), \"EEEE\"))\n",
    "\n",
    "# get 2 lists of the total amount for weekends and weekdays\n",
    "weekend = df.filter(df[\"DayOfWeek\"].isin(\"Saturday\", \"Sunday\")).select(\"Total_Amount\")\n",
    "weekend_list = np.array([row[\"Total_Amount\"] for row in weekend.collect()])\n",
    "\n",
    "weekday = df.filter(~df[\"DayOfWeek\"].isin(\"Saturday\", \"Sunday\")).select(\"Total_Amount\")\n",
    "weekday_list = np.array([row[\"Total_Amount\"] for row in weekday.collect()])\n",
    "\n",
    "\n",
    "\n",
    "print(f\"Average trip amount on weekends: {round(np.mean(weekend_list), 2)} (N = {len(weekend_list)})\")\n",
    "print(f\"Average trip amount on weekdays: {round(np.mean(weekday_list), 2)} (N = {len(weekday_list)})\")"
   ]
  },
  {
   "cell_type": "code",
   "execution_count": 22,
   "metadata": {},
   "outputs": [
    {
     "name": "stdout",
     "output_type": "stream",
     "text": [
      "F-test for equal variances: pass\n"
     ]
    }
   ],
   "source": [
    "# Check for equal variance\n",
    "from scipy.stats import f_oneway\n",
    "\n",
    "f_test = f_oneway(weekend_list, weekday_list)\n",
    "print(f\"F-test for equal variances: {'pass' if f_test.pvalue > 0.05 else 'fail'}\")"
   ]
  },
  {
   "cell_type": "code",
   "execution_count": 23,
   "metadata": {},
   "outputs": [
    {
     "name": "stdout",
     "output_type": "stream",
     "text": [
      "T-test p-value: 0.07997598051762189\n",
      "Fail to reject the null hypothesis\n"
     ]
    }
   ],
   "source": [
    "# f-test passed so can do a t-test\n",
    "\n",
    "\n",
    "# 'greater' says the first sample (weekend) is greater than the second sample (weekday)\n",
    "t_statistic, p_value_ttest = ttest_ind(weekend_list, weekday_list, equal_var=True, alternative='greater')\n",
    "print(f\"T-test p-value: {p_value_ttest}\")\n",
    "if p_value_ttest < 0.05:\n",
    "    print(\"Reject the null hypothesis\")\n",
    "else:\n",
    "    print(\"Fail to reject the null hypothesis\")"
   ]
  },
  {
   "cell_type": "markdown",
   "metadata": {},
   "source": []
  },
  {
   "cell_type": "markdown",
   "metadata": {},
   "source": [
    "## Part C"
   ]
  },
  {
   "cell_type": "markdown",
   "metadata": {},
   "source": [
    "Define groups:\n",
    "- overall\n",
    "- men/day\n",
    "- men/night\n",
    "- women/day\n",
    "- women/night\n",
    "\n",
    "Step 1: Visualize the means for all categories\n",
    "- get means by area for each group.\n",
    "- Then plot in a bar graph\n",
    "\n",
    "Then for each group do:\n",
    "\n",
    "Step 2: Statistical tests\n",
    "- Check for normality (Shapiro-wilk) of each state and then for equal variances (Levene's test)\n",
    "- Do ANOVA to understand if there is a statistically significant difference between the groups\n",
    "- for all pairs, do mannwhitney u test to check for differences between each pair. (robust to non-normality and unqual variances). Apply a bonferroni correction to the p-values.\n",
    "- for the statistically significant pairs, rank the states by median earnings.\n",
    "\n",
    "\n"
   ]
  },
  {
   "cell_type": "code",
   "execution_count": 24,
   "metadata": {},
   "outputs": [
    {
     "data": {
      "image/png": "[encoded data removed]",
      "text/plain": [
       "<Figure size 1000x600 with 1 Axes>"
      ]
     },
     "metadata": {},
     "output_type": "display_data"
    }
   ],
   "source": [
    "# prepare the data\n",
    "def get_state_average(df, name = \"Overall\"):\n",
    "    grouping = df.groupBy(\"PickUp_Colombo_ID\").agg(mean(\"Total_Amount\").alias(name)).toPandas()\n",
    "    grouping[\"PickUp_Colombo_ID\"] = grouping[\"PickUp_Colombo_ID\"].astype(int)\n",
    "    grouping.sort_values(by=\"PickUp_Colombo_ID\", inplace=True)\n",
    "    return grouping.set_index(\"PickUp_Colombo_ID\")\n",
    "\n",
    "# overall\n",
    "grouped = get_state_average(df)\n",
    "\n",
    "# men/day\n",
    "grouped['Men_Day'] = get_state_average(df.filter(df[\"IsMale\"] == 1).filter( df[\"PickUp_Time\"] == \"Day\"), \"Men_Day\")\n",
    "\n",
    "# men/night\n",
    "grouped['Men_Night'] = get_state_average(df.filter(df[\"IsMale\"] == 1).filter( df[\"PickUp_Time\"] == \"Night\"), \"Men_Night\")\n",
    "\n",
    "# women/day\n",
    "grouped['Women_Day'] = get_state_average(df.filter(df[\"IsMale\"] == 0).filter( df[\"PickUp_Time\"] == \"Day\"), \"Women_Day\")\n",
    "\n",
    "# women/night\n",
    "grouped['Women_Night'] = get_state_average(df.filter(df[\"IsMale\"] == 0).filter( df[\"PickUp_Time\"] == \"Night\"), \"Women_Night\")\n",
    "\n",
    "\n",
    "# plot a bar graph with multiple bars for each group next to each other\n",
    "fig = plt.figure(figsize=(10, 6))\n",
    "\n",
    "# Create a grouped bar plot\n",
    "x = np.arange(len(grouped.index))\n",
    "width = 0.15  # Width of each bar\n",
    "\n",
    "for i, group in enumerate(grouped.columns):\n",
    "    plt.bar(x + (i * width), grouped[group], width, label=group)\n",
    "\n",
    "plt.xlabel('PickUp_Colombo_ID')\n",
    "plt.ylabel('Total Amount')\n",
    "plt.title('Average Total Amount by Pickup Location and Group')\n",
    "plt.xticks(x + width * 2, grouped.index)\n",
    "plt.legend()\n",
    "\n",
    "plt.show()\n"
   ]
  },
  {
   "cell_type": "markdown",
   "metadata": {},
   "source": [
    "### Statistical Tests\n",
    "- The series are mostly not normally distributed so the following should be taken with a grain of salt.\n",
    "- ANOVA passed only in 1 group (women/day). Here normality held (except only 1 case) and equal variances held to there is something to look into.\n",
    "- For the pairwise tests, there is a statistically significant difference between many pairs but after applying bonferroni correction, no pairs seem to be significant. Bonferroni is very strict so it is possible that a difference exists so we look at the median earnings for the pairs that were significant without the correction.\n",
    "- Note that because of the above two, the rankings may not be entirely accurate."
   ]
  },
  {
   "cell_type": "code",
   "execution_count": 25,
   "metadata": {},
   "outputs": [],
   "source": [
    "import itertools\n",
    "from scipy.stats import mannwhitneyu, shapiro, levene\n",
    "from statsmodels.sandbox.stats.multicomp import multipletests\n",
    "from pyspark.sql.functions import collect_list\n",
    "\n",
    "\n",
    "def get_lists(df, group='PickUp_Colombo_ID'):\n",
    "    # condense the data by pickup location\n",
    "    condensed = df.groupBy(group).agg(collect_list(\"Total_Amount\").alias(\"earnings\"))\n",
    "    # collect the data into a list of rows\n",
    "    data_for_tests = condensed.collect()\n",
    "    # create a dictionary of pickup location and earnings\n",
    "    data_dict = {row[group]: row['earnings'] for row in data_for_tests}\n",
    "    return data_dict\n",
    "\n",
    "\n",
    "    for state_id, earnings in testing_data.items():\n",
    "        if any(earning <= 0 for earning in earnings):\n",
    "            print(f\"State {state_id}: Contains non-positive values. Cannot log transform.\")\n",
    "            continue\n",
    "        testing_data[state_id] = np.log(earnings)\n",
    "    return testing_data\n",
    "\n",
    "\n",
    "def check_normality(testing_data):\n",
    "    print(\"\\n--- Normality Check (Shapiro-Wilk Test) ---\")\n",
    "    for state_id, earnings in testing_data.items():\n",
    "        if len(earnings) < 3: # Shapiro-Wilk needs at least 3 samples\n",
    "            print(f\"State {state_id}: Not enough data to test normality ( N < 3 ).\")\n",
    "            continue\n",
    "        stat, p = shapiro(earnings)\n",
    "        is_normal = p > 0.05\n",
    "        print(f\"State {state_id}: P-value={p:.3f}\\t -> {'Normal' if is_normal else 'Not Normal'}\")\n",
    "\n",
    "\n",
    "def check_homogeneity_of_variances(testing_data):\n",
    "    print(\"\\n--- Homogeneity of Variances Check (Levene's Test) ---\")\n",
    "    # Filter out states with less than 2 samples for Levene's test\n",
    "    samples_for_levene = [np.array(earnings) for earnings in testing_data.values() if len(earnings) >= 2]\n",
    "\n",
    "    if len(samples_for_levene) < 2:\n",
    "        print(\"Not enough groups with sufficient data to perform Levene's test (need at least 2 groups with N >= 2).\")\n",
    "        return\n",
    "    stat, p = levene(*samples_for_levene)\n",
    "    are_variances_equal = p > 0.05\n",
    "    print(f\"Levene's Test: P-value={p:.3f}\\t -> {'Variances Equal' if are_variances_equal else 'Variances Not Equal'}\")\n",
    "    print()\n",
    "\n",
    "\n",
    "def run_anova(testing_data):\n",
    "    # get the data into a list\n",
    "    data_list = list(testing_data.values())\n",
    "    # run the ANOVA\n",
    "    f_statistic, p_value = f_oneway(*data_list)\n",
    "    print(f\"ANOVA: P-value={p_value:.3f}\")\n",
    "    if p_value < 0.05:\n",
    "        print(\"There is a statistically significant difference between the groups\")\n",
    "    else:\n",
    "        print(\"There is no statistically significant difference between the groups\")\n",
    "\n",
    "    print()\n",
    "\n",
    "\n",
    "\n",
    "def pairwise_mannwhitneyu(testing_data):\n",
    "    # get combinations\n",
    "    state_ids = list(testing_data.keys())\n",
    "    pairs = list(itertools.combinations(state_ids, 2))\n",
    "\n",
    "    # initialise results list\n",
    "    results = []\n",
    "    raw_p_values = []\n",
    "\n",
    "    # main loop\n",
    "    for state1_id, state2_id in pairs:\n",
    "        earnings1 = testing_data[state1_id]\n",
    "        earnings2 = testing_data[state2_id]\n",
    "        stat, p_value = mannwhitneyu(earnings1, earnings2)\n",
    "\n",
    "        # append results\n",
    "        results.append({\n",
    "            'state1': state1_id,\n",
    "            'state2': state2_id,\n",
    "            'median1': np.median(earnings1) if earnings1 else np.nan,\n",
    "            'median2': np.median(earnings2) if earnings2 else np.nan,\n",
    "            'p_value_raw': p_value\n",
    "        })\n",
    "\n",
    "        raw_p_values.append(p_value)\n",
    "    \n",
    "\n",
    "    # adjust p-values (bonferroni correction)\n",
    "    reject, corrected_p_values, _, _ = multipletests(raw_p_values, method='bonferroni')\n",
    "\n",
    "    adj_p_idx = 0\n",
    "    for res_dict in results:\n",
    "        if not np.isnan(res_dict['p_value_raw']):\n",
    "                res_dict['p_value_adjusted'] = corrected_p_values[adj_p_idx]\n",
    "                res_dict['significant_after_adj'] = reject[adj_p_idx]\n",
    "                adj_p_idx += 1\n",
    "        else:\n",
    "            res_dict['p_value_adjusted'] = np.nan\n",
    "            res_dict['significant_after_adj'] = 'N/A'\n",
    "\n",
    "    return pd.DataFrame(results)\n",
    "\n",
    "\n",
    "\n",
    "def order_by_median(results_df, col='Overall'):\n",
    "    orderings = results_df[results_df['p_value_raw']< 0.05]\n",
    "\n",
    "    # stack the 2 states and their medians\n",
    "    o1 = orderings[['state1', 'median1']]\n",
    "    o2 = orderings[['state2', 'median2']]\n",
    "    o1.columns = ['state', col]\n",
    "    o2.columns = ['state', col]\n",
    "    o = pd.concat([o1, o2])\n",
    "    # drop duplicates\n",
    "    o = o.drop_duplicates(subset='state')\n",
    "    o.sort_values(by=col, ascending=False, inplace=True)\n",
    "    o.set_index('state', inplace=True)\n",
    "    return o"
   ]
  },
  {
   "cell_type": "markdown",
   "metadata": {},
   "source": [
    "#### Overall"
   ]
  },
  {
   "cell_type": "code",
   "execution_count": 26,
   "metadata": {},
   "outputs": [
    {
     "name": "stdout",
     "output_type": "stream",
     "text": [
      "\n",
      "--- Normality Check (Shapiro-Wilk Test) ---\n",
      "State 7: P-value=0.023\t -> Not Normal\n",
      "State 15: P-value=0.128\t -> Normal\n",
      "State 11: P-value=0.012\t -> Not Normal\n",
      "State 3: P-value=0.071\t -> Normal\n",
      "State 8: P-value=0.062\t -> Normal\n",
      "State 5: P-value=0.008\t -> Not Normal\n",
      "State 6: P-value=0.035\t -> Not Normal\n",
      "State 9: P-value=0.012\t -> Not Normal\n",
      "State 1: P-value=0.086\t -> Normal\n",
      "State 10: P-value=0.005\t -> Not Normal\n",
      "State 4: P-value=0.050\t -> Normal\n",
      "State 12: P-value=0.033\t -> Not Normal\n",
      "State 13: P-value=0.005\t -> Not Normal\n",
      "State 14: P-value=0.067\t -> Normal\n",
      "State 2: P-value=0.002\t -> Not Normal\n",
      "\n",
      "--- Homogeneity of Variances Check (Levene's Test) ---\n",
      "Levene's Test: P-value=0.935\t -> Variances Equal\n",
      "\n",
      "ANOVA: P-value=0.484\n",
      "There is no statistically significant difference between the groups\n",
      "\n"
     ]
    },
    {
     "data": {
      "text/html": [
       "<div>\n",
       "<style scoped>\n",
       "    .dataframe tbody tr th:only-of-type {\n",
       "        vertical-align: middle;\n",
       "    }\n",
       "\n",
       "    .dataframe tbody tr th {\n",
       "        vertical-align: top;\n",
       "    }\n",
       "\n",
       "    .dataframe thead th {\n",
       "        text-align: right;\n",
       "    }\n",
       "</style>\n",
       "<table border=\"1\" class=\"dataframe\">\n",
       "  <thead>\n",
       "    <tr style=\"text-align: right;\">\n",
       "      <th></th>\n",
       "      <th>state1</th>\n",
       "      <th>state2</th>\n",
       "      <th>median1</th>\n",
       "      <th>median2</th>\n",
       "      <th>p_value_raw</th>\n",
       "      <th>p_value_adjusted</th>\n",
       "      <th>significant_after_adj</th>\n",
       "    </tr>\n",
       "  </thead>\n",
       "  <tbody>\n",
       "    <tr>\n",
       "      <th>29</th>\n",
       "      <td>11</td>\n",
       "      <td>5</td>\n",
       "      <td>27.430</td>\n",
       "      <td>34.815</td>\n",
       "      <td>0.041324</td>\n",
       "      <td>1.0</td>\n",
       "      <td>False</td>\n",
       "    </tr>\n",
       "    <tr>\n",
       "      <th>61</th>\n",
       "      <td>5</td>\n",
       "      <td>9</td>\n",
       "      <td>34.815</td>\n",
       "      <td>28.740</td>\n",
       "      <td>0.043276</td>\n",
       "      <td>1.0</td>\n",
       "      <td>False</td>\n",
       "    </tr>\n",
       "    <tr>\n",
       "      <th>62</th>\n",
       "      <td>5</td>\n",
       "      <td>1</td>\n",
       "      <td>34.815</td>\n",
       "      <td>29.085</td>\n",
       "      <td>0.040101</td>\n",
       "      <td>1.0</td>\n",
       "      <td>False</td>\n",
       "    </tr>\n",
       "    <tr>\n",
       "      <th>65</th>\n",
       "      <td>5</td>\n",
       "      <td>12</td>\n",
       "      <td>34.815</td>\n",
       "      <td>27.480</td>\n",
       "      <td>0.015145</td>\n",
       "      <td>1.0</td>\n",
       "      <td>False</td>\n",
       "    </tr>\n",
       "    <tr>\n",
       "      <th>99</th>\n",
       "      <td>12</td>\n",
       "      <td>13</td>\n",
       "      <td>27.480</td>\n",
       "      <td>36.455</td>\n",
       "      <td>0.026647</td>\n",
       "      <td>1.0</td>\n",
       "      <td>False</td>\n",
       "    </tr>\n",
       "  </tbody>\n",
       "</table>\n",
       "</div>"
      ],
      "text/plain": [
       "   state1 state2  median1  median2  p_value_raw  p_value_adjusted  \\\n",
       "29     11      5   27.430   34.815     0.041324               1.0   \n",
       "61      5      9   34.815   28.740     0.043276               1.0   \n",
       "62      5      1   34.815   29.085     0.040101               1.0   \n",
       "65      5     12   34.815   27.480     0.015145               1.0   \n",
       "99     12     13   27.480   36.455     0.026647               1.0   \n",
       "\n",
       "    significant_after_adj  \n",
       "29                  False  \n",
       "61                  False  \n",
       "62                  False  \n",
       "65                  False  \n",
       "99                  False  "
      ]
     },
     "execution_count": 26,
     "metadata": {},
     "output_type": "execute_result"
    }
   ],
   "source": [
    "testing_data = get_lists(df)\n",
    "\n",
    "# check assumptions\n",
    "check_normality(testing_data)\n",
    "check_homogeneity_of_variances(testing_data)\n",
    "\n",
    "# run tests\n",
    "run_anova(testing_data)\n",
    "results_df = pairwise_mannwhitneyu(testing_data)\n",
    "\n",
    "# save ranking and show significant results\n",
    "res = order_by_median(results_df)\n",
    "results_df[results_df['p_value_raw']< 0.05]"
   ]
  },
  {
   "cell_type": "markdown",
   "metadata": {},
   "source": [
    "#### Men/Day"
   ]
  },
  {
   "cell_type": "code",
   "execution_count": 27,
   "metadata": {},
   "outputs": [
    {
     "name": "stdout",
     "output_type": "stream",
     "text": [
      "\n",
      "--- Normality Check (Shapiro-Wilk Test) ---\n",
      "State 7: P-value=0.022\t -> Not Normal\n",
      "State 15: P-value=0.448\t -> Normal\n",
      "State 11: P-value=0.014\t -> Not Normal\n",
      "State 3: P-value=0.668\t -> Normal\n",
      "State 8: P-value=0.342\t -> Normal\n",
      "State 5: P-value=0.013\t -> Not Normal\n",
      "State 6: P-value=0.237\t -> Normal\n",
      "State 9: P-value=0.036\t -> Not Normal\n",
      "State 1: P-value=0.679\t -> Normal\n",
      "State 10: P-value=0.029\t -> Not Normal\n",
      "State 4: P-value=0.252\t -> Normal\n",
      "State 12: P-value=0.153\t -> Normal\n",
      "State 13: P-value=0.147\t -> Normal\n",
      "State 14: P-value=0.654\t -> Normal\n",
      "State 2: P-value=0.039\t -> Not Normal\n",
      "\n",
      "--- Homogeneity of Variances Check (Levene's Test) ---\n",
      "Levene's Test: P-value=0.717\t -> Variances Equal\n",
      "\n",
      "ANOVA: P-value=0.596\n",
      "There is no statistically significant difference between the groups\n",
      "\n"
     ]
    },
    {
     "data": {
      "text/html": [
       "<div>\n",
       "<style scoped>\n",
       "    .dataframe tbody tr th:only-of-type {\n",
       "        vertical-align: middle;\n",
       "    }\n",
       "\n",
       "    .dataframe tbody tr th {\n",
       "        vertical-align: top;\n",
       "    }\n",
       "\n",
       "    .dataframe thead th {\n",
       "        text-align: right;\n",
       "    }\n",
       "</style>\n",
       "<table border=\"1\" class=\"dataframe\">\n",
       "  <thead>\n",
       "    <tr style=\"text-align: right;\">\n",
       "      <th></th>\n",
       "      <th>state1</th>\n",
       "      <th>state2</th>\n",
       "      <th>median1</th>\n",
       "      <th>median2</th>\n",
       "      <th>p_value_raw</th>\n",
       "      <th>p_value_adjusted</th>\n",
       "      <th>significant_after_adj</th>\n",
       "    </tr>\n",
       "  </thead>\n",
       "  <tbody>\n",
       "    <tr>\n",
       "      <th>47</th>\n",
       "      <td>3</td>\n",
       "      <td>13</td>\n",
       "      <td>35.07</td>\n",
       "      <td>24.31</td>\n",
       "      <td>0.04037</td>\n",
       "      <td>1.0</td>\n",
       "      <td>False</td>\n",
       "    </tr>\n",
       "  </tbody>\n",
       "</table>\n",
       "</div>"
      ],
      "text/plain": [
       "   state1 state2  median1  median2  p_value_raw  p_value_adjusted  \\\n",
       "47      3     13    35.07    24.31      0.04037               1.0   \n",
       "\n",
       "    significant_after_adj  \n",
       "47                  False  "
      ]
     },
     "execution_count": 27,
     "metadata": {},
     "output_type": "execute_result"
    }
   ],
   "source": [
    "testing_data = get_lists(df.filter(df['IsMale'] == 1).filter(df['PickUp_Time'] == 'Day'))\n",
    "\n",
    "# check assumptions\n",
    "check_normality(testing_data)\n",
    "check_homogeneity_of_variances(testing_data)\n",
    "\n",
    "# run tests\n",
    "run_anova(testing_data)\n",
    "results_df = pairwise_mannwhitneyu(testing_data)\n",
    "\n",
    "# save ranking and show significant results\n",
    "res['Men_Day'] = order_by_median(results_df, 'Men_Day')\n",
    "results_df[results_df['p_value_raw']< 0.05]"
   ]
  },
  {
   "cell_type": "markdown",
   "metadata": {},
   "source": [
    "#### Men Night"
   ]
  },
  {
   "cell_type": "code",
   "execution_count": 28,
   "metadata": {},
   "outputs": [
    {
     "name": "stdout",
     "output_type": "stream",
     "text": [
      "\n",
      "--- Normality Check (Shapiro-Wilk Test) ---\n",
      "State 7: P-value=0.351\t -> Normal\n",
      "State 15: P-value=0.046\t -> Not Normal\n",
      "State 11: P-value=0.627\t -> Normal\n",
      "State 3: P-value=0.244\t -> Normal\n",
      "State 8: P-value=0.816\t -> Normal\n",
      "State 5: P-value=0.150\t -> Normal\n",
      "State 6: P-value=0.560\t -> Normal\n",
      "State 9: P-value=0.193\t -> Normal\n",
      "State 1: P-value=0.894\t -> Normal\n",
      "State 10: P-value=0.306\t -> Normal\n",
      "State 4: P-value=0.218\t -> Normal\n",
      "State 12: P-value=0.010\t -> Not Normal\n",
      "State 13: P-value=0.077\t -> Normal\n",
      "State 14: P-value=0.456\t -> Normal\n",
      "State 2: P-value=0.646\t -> Normal\n",
      "\n",
      "--- Homogeneity of Variances Check (Levene's Test) ---\n",
      "Levene's Test: P-value=0.956\t -> Variances Equal\n",
      "\n",
      "ANOVA: P-value=0.193\n",
      "There is no statistically significant difference between the groups\n",
      "\n"
     ]
    },
    {
     "data": {
      "text/html": [
       "<div>\n",
       "<style scoped>\n",
       "    .dataframe tbody tr th:only-of-type {\n",
       "        vertical-align: middle;\n",
       "    }\n",
       "\n",
       "    .dataframe tbody tr th {\n",
       "        vertical-align: top;\n",
       "    }\n",
       "\n",
       "    .dataframe thead th {\n",
       "        text-align: right;\n",
       "    }\n",
       "</style>\n",
       "<table border=\"1\" class=\"dataframe\">\n",
       "  <thead>\n",
       "    <tr style=\"text-align: right;\">\n",
       "      <th></th>\n",
       "      <th>state1</th>\n",
       "      <th>state2</th>\n",
       "      <th>median1</th>\n",
       "      <th>median2</th>\n",
       "      <th>p_value_raw</th>\n",
       "      <th>p_value_adjusted</th>\n",
       "      <th>significant_after_adj</th>\n",
       "    </tr>\n",
       "  </thead>\n",
       "  <tbody>\n",
       "    <tr>\n",
       "      <th>15</th>\n",
       "      <td>15</td>\n",
       "      <td>3</td>\n",
       "      <td>38.20</td>\n",
       "      <td>23.18</td>\n",
       "      <td>0.014960</td>\n",
       "      <td>1.000000</td>\n",
       "      <td>False</td>\n",
       "    </tr>\n",
       "    <tr>\n",
       "      <th>23</th>\n",
       "      <td>15</td>\n",
       "      <td>12</td>\n",
       "      <td>38.20</td>\n",
       "      <td>20.08</td>\n",
       "      <td>0.048856</td>\n",
       "      <td>1.000000</td>\n",
       "      <td>False</td>\n",
       "    </tr>\n",
       "    <tr>\n",
       "      <th>43</th>\n",
       "      <td>3</td>\n",
       "      <td>1</td>\n",
       "      <td>23.18</td>\n",
       "      <td>34.21</td>\n",
       "      <td>0.048587</td>\n",
       "      <td>1.000000</td>\n",
       "      <td>False</td>\n",
       "    </tr>\n",
       "    <tr>\n",
       "      <th>47</th>\n",
       "      <td>3</td>\n",
       "      <td>13</td>\n",
       "      <td>23.18</td>\n",
       "      <td>42.61</td>\n",
       "      <td>0.007697</td>\n",
       "      <td>0.808182</td>\n",
       "      <td>False</td>\n",
       "    </tr>\n",
       "    <tr>\n",
       "      <th>65</th>\n",
       "      <td>5</td>\n",
       "      <td>12</td>\n",
       "      <td>29.69</td>\n",
       "      <td>20.08</td>\n",
       "      <td>0.015115</td>\n",
       "      <td>1.000000</td>\n",
       "      <td>False</td>\n",
       "    </tr>\n",
       "    <tr>\n",
       "      <th>86</th>\n",
       "      <td>1</td>\n",
       "      <td>12</td>\n",
       "      <td>34.21</td>\n",
       "      <td>20.08</td>\n",
       "      <td>0.029273</td>\n",
       "      <td>1.000000</td>\n",
       "      <td>False</td>\n",
       "    </tr>\n",
       "    <tr>\n",
       "      <th>95</th>\n",
       "      <td>4</td>\n",
       "      <td>12</td>\n",
       "      <td>40.30</td>\n",
       "      <td>20.08</td>\n",
       "      <td>0.045487</td>\n",
       "      <td>1.000000</td>\n",
       "      <td>False</td>\n",
       "    </tr>\n",
       "    <tr>\n",
       "      <th>99</th>\n",
       "      <td>12</td>\n",
       "      <td>13</td>\n",
       "      <td>20.08</td>\n",
       "      <td>42.61</td>\n",
       "      <td>0.023851</td>\n",
       "      <td>1.000000</td>\n",
       "      <td>False</td>\n",
       "    </tr>\n",
       "    <tr>\n",
       "      <th>102</th>\n",
       "      <td>13</td>\n",
       "      <td>14</td>\n",
       "      <td>42.61</td>\n",
       "      <td>27.93</td>\n",
       "      <td>0.023587</td>\n",
       "      <td>1.000000</td>\n",
       "      <td>False</td>\n",
       "    </tr>\n",
       "  </tbody>\n",
       "</table>\n",
       "</div>"
      ],
      "text/plain": [
       "    state1 state2  median1  median2  p_value_raw  p_value_adjusted  \\\n",
       "15      15      3    38.20    23.18     0.014960          1.000000   \n",
       "23      15     12    38.20    20.08     0.048856          1.000000   \n",
       "43       3      1    23.18    34.21     0.048587          1.000000   \n",
       "47       3     13    23.18    42.61     0.007697          0.808182   \n",
       "65       5     12    29.69    20.08     0.015115          1.000000   \n",
       "86       1     12    34.21    20.08     0.029273          1.000000   \n",
       "95       4     12    40.30    20.08     0.045487          1.000000   \n",
       "99      12     13    20.08    42.61     0.023851          1.000000   \n",
       "102     13     14    42.61    27.93     0.023587          1.000000   \n",
       "\n",
       "     significant_after_adj  \n",
       "15                   False  \n",
       "23                   False  \n",
       "43                   False  \n",
       "47                   False  \n",
       "65                   False  \n",
       "86                   False  \n",
       "95                   False  \n",
       "99                   False  \n",
       "102                  False  "
      ]
     },
     "execution_count": 28,
     "metadata": {},
     "output_type": "execute_result"
    }
   ],
   "source": [
    "testing_data = get_lists(df.filter(df['IsMale'] == 1).filter(df['PickUp_Time'] == 'Night'))\n",
    "\n",
    "# check assumptions\n",
    "check_normality(testing_data)\n",
    "check_homogeneity_of_variances(testing_data)\n",
    "\n",
    "# run tests\n",
    "run_anova(testing_data)\n",
    "results_df = pairwise_mannwhitneyu(testing_data)\n",
    "\n",
    "# save ranking and show significant results\n",
    "res['Men_Night'] = order_by_median(results_df, 'Men_Night')\n",
    "results_df[results_df['p_value_raw']< 0.05]\n"
   ]
  },
  {
   "cell_type": "markdown",
   "metadata": {},
   "source": [
    "#### Women Day"
   ]
  },
  {
   "cell_type": "code",
   "execution_count": 29,
   "metadata": {},
   "outputs": [
    {
     "name": "stdout",
     "output_type": "stream",
     "text": [
      "\n",
      "--- Normality Check (Shapiro-Wilk Test) ---\n",
      "State 7: P-value=0.165\t -> Normal\n",
      "State 15: P-value=0.110\t -> Normal\n",
      "State 11: P-value=0.435\t -> Normal\n",
      "State 3: P-value=0.122\t -> Normal\n",
      "State 8: P-value=0.629\t -> Normal\n",
      "State 5: P-value=0.621\t -> Normal\n",
      "State 6: P-value=0.381\t -> Normal\n",
      "State 9: P-value=0.625\t -> Normal\n",
      "State 1: P-value=0.260\t -> Normal\n",
      "State 10: P-value=0.721\t -> Normal\n",
      "State 4: P-value=0.704\t -> Normal\n",
      "State 12: P-value=0.605\t -> Normal\n",
      "State 13: P-value=0.408\t -> Normal\n",
      "State 14: P-value=0.169\t -> Normal\n",
      "State 2: P-value=0.043\t -> Not Normal\n",
      "\n",
      "--- Homogeneity of Variances Check (Levene's Test) ---\n",
      "Levene's Test: P-value=0.144\t -> Variances Equal\n",
      "\n",
      "ANOVA: P-value=0.042\n",
      "There is a statistically significant difference between the groups\n",
      "\n"
     ]
    },
    {
     "data": {
      "text/html": [
       "<div>\n",
       "<style scoped>\n",
       "    .dataframe tbody tr th:only-of-type {\n",
       "        vertical-align: middle;\n",
       "    }\n",
       "\n",
       "    .dataframe tbody tr th {\n",
       "        vertical-align: top;\n",
       "    }\n",
       "\n",
       "    .dataframe thead th {\n",
       "        text-align: right;\n",
       "    }\n",
       "</style>\n",
       "<table border=\"1\" class=\"dataframe\">\n",
       "  <thead>\n",
       "    <tr style=\"text-align: right;\">\n",
       "      <th></th>\n",
       "      <th>state1</th>\n",
       "      <th>state2</th>\n",
       "      <th>median1</th>\n",
       "      <th>median2</th>\n",
       "      <th>p_value_raw</th>\n",
       "      <th>p_value_adjusted</th>\n",
       "      <th>significant_after_adj</th>\n",
       "    </tr>\n",
       "  </thead>\n",
       "  <tbody>\n",
       "    <tr>\n",
       "      <th>11</th>\n",
       "      <td>7</td>\n",
       "      <td>13</td>\n",
       "      <td>25.235</td>\n",
       "      <td>40.06</td>\n",
       "      <td>0.024047</td>\n",
       "      <td>1.000000</td>\n",
       "      <td>False</td>\n",
       "    </tr>\n",
       "    <tr>\n",
       "      <th>26</th>\n",
       "      <td>15</td>\n",
       "      <td>2</td>\n",
       "      <td>29.700</td>\n",
       "      <td>19.29</td>\n",
       "      <td>0.007569</td>\n",
       "      <td>0.794782</td>\n",
       "      <td>False</td>\n",
       "    </tr>\n",
       "    <tr>\n",
       "      <th>47</th>\n",
       "      <td>3</td>\n",
       "      <td>13</td>\n",
       "      <td>24.000</td>\n",
       "      <td>40.06</td>\n",
       "      <td>0.011043</td>\n",
       "      <td>1.000000</td>\n",
       "      <td>False</td>\n",
       "    </tr>\n",
       "    <tr>\n",
       "      <th>57</th>\n",
       "      <td>8</td>\n",
       "      <td>13</td>\n",
       "      <td>32.275</td>\n",
       "      <td>40.06</td>\n",
       "      <td>0.040987</td>\n",
       "      <td>1.000000</td>\n",
       "      <td>False</td>\n",
       "    </tr>\n",
       "    <tr>\n",
       "      <th>59</th>\n",
       "      <td>8</td>\n",
       "      <td>2</td>\n",
       "      <td>32.275</td>\n",
       "      <td>19.29</td>\n",
       "      <td>0.040364</td>\n",
       "      <td>1.000000</td>\n",
       "      <td>False</td>\n",
       "    </tr>\n",
       "    <tr>\n",
       "      <th>61</th>\n",
       "      <td>5</td>\n",
       "      <td>9</td>\n",
       "      <td>34.350</td>\n",
       "      <td>22.90</td>\n",
       "      <td>0.029273</td>\n",
       "      <td>1.000000</td>\n",
       "      <td>False</td>\n",
       "    </tr>\n",
       "    <tr>\n",
       "      <th>68</th>\n",
       "      <td>5</td>\n",
       "      <td>2</td>\n",
       "      <td>34.350</td>\n",
       "      <td>19.29</td>\n",
       "      <td>0.006190</td>\n",
       "      <td>0.649932</td>\n",
       "      <td>False</td>\n",
       "    </tr>\n",
       "    <tr>\n",
       "      <th>76</th>\n",
       "      <td>6</td>\n",
       "      <td>2</td>\n",
       "      <td>30.475</td>\n",
       "      <td>19.29</td>\n",
       "      <td>0.034449</td>\n",
       "      <td>1.000000</td>\n",
       "      <td>False</td>\n",
       "    </tr>\n",
       "    <tr>\n",
       "      <th>78</th>\n",
       "      <td>9</td>\n",
       "      <td>10</td>\n",
       "      <td>22.900</td>\n",
       "      <td>36.78</td>\n",
       "      <td>0.025635</td>\n",
       "      <td>1.000000</td>\n",
       "      <td>False</td>\n",
       "    </tr>\n",
       "    <tr>\n",
       "      <th>81</th>\n",
       "      <td>9</td>\n",
       "      <td>13</td>\n",
       "      <td>22.900</td>\n",
       "      <td>40.06</td>\n",
       "      <td>0.002523</td>\n",
       "      <td>0.264896</td>\n",
       "      <td>False</td>\n",
       "    </tr>\n",
       "    <tr>\n",
       "      <th>87</th>\n",
       "      <td>1</td>\n",
       "      <td>13</td>\n",
       "      <td>28.130</td>\n",
       "      <td>40.06</td>\n",
       "      <td>0.029518</td>\n",
       "      <td>1.000000</td>\n",
       "      <td>False</td>\n",
       "    </tr>\n",
       "    <tr>\n",
       "      <th>94</th>\n",
       "      <td>10</td>\n",
       "      <td>2</td>\n",
       "      <td>36.780</td>\n",
       "      <td>19.29</td>\n",
       "      <td>0.010122</td>\n",
       "      <td>1.000000</td>\n",
       "      <td>False</td>\n",
       "    </tr>\n",
       "    <tr>\n",
       "      <th>96</th>\n",
       "      <td>4</td>\n",
       "      <td>13</td>\n",
       "      <td>32.780</td>\n",
       "      <td>40.06</td>\n",
       "      <td>0.043103</td>\n",
       "      <td>1.000000</td>\n",
       "      <td>False</td>\n",
       "    </tr>\n",
       "    <tr>\n",
       "      <th>98</th>\n",
       "      <td>4</td>\n",
       "      <td>2</td>\n",
       "      <td>32.780</td>\n",
       "      <td>19.29</td>\n",
       "      <td>0.020133</td>\n",
       "      <td>1.000000</td>\n",
       "      <td>False</td>\n",
       "    </tr>\n",
       "    <tr>\n",
       "      <th>99</th>\n",
       "      <td>12</td>\n",
       "      <td>13</td>\n",
       "      <td>28.410</td>\n",
       "      <td>40.06</td>\n",
       "      <td>0.003240</td>\n",
       "      <td>0.340193</td>\n",
       "      <td>False</td>\n",
       "    </tr>\n",
       "    <tr>\n",
       "      <th>103</th>\n",
       "      <td>13</td>\n",
       "      <td>2</td>\n",
       "      <td>40.060</td>\n",
       "      <td>19.29</td>\n",
       "      <td>0.001846</td>\n",
       "      <td>0.193801</td>\n",
       "      <td>False</td>\n",
       "    </tr>\n",
       "  </tbody>\n",
       "</table>\n",
       "</div>"
      ],
      "text/plain": [
       "    state1 state2  median1  median2  p_value_raw  p_value_adjusted  \\\n",
       "11       7     13   25.235    40.06     0.024047          1.000000   \n",
       "26      15      2   29.700    19.29     0.007569          0.794782   \n",
       "47       3     13   24.000    40.06     0.011043          1.000000   \n",
       "57       8     13   32.275    40.06     0.040987          1.000000   \n",
       "59       8      2   32.275    19.29     0.040364          1.000000   \n",
       "61       5      9   34.350    22.90     0.029273          1.000000   \n",
       "68       5      2   34.350    19.29     0.006190          0.649932   \n",
       "76       6      2   30.475    19.29     0.034449          1.000000   \n",
       "78       9     10   22.900    36.78     0.025635          1.000000   \n",
       "81       9     13   22.900    40.06     0.002523          0.264896   \n",
       "87       1     13   28.130    40.06     0.029518          1.000000   \n",
       "94      10      2   36.780    19.29     0.010122          1.000000   \n",
       "96       4     13   32.780    40.06     0.043103          1.000000   \n",
       "98       4      2   32.780    19.29     0.020133          1.000000   \n",
       "99      12     13   28.410    40.06     0.003240          0.340193   \n",
       "103     13      2   40.060    19.29     0.001846          0.193801   \n",
       "\n",
       "     significant_after_adj  \n",
       "11                   False  \n",
       "26                   False  \n",
       "47                   False  \n",
       "57                   False  \n",
       "59                   False  \n",
       "61                   False  \n",
       "68                   False  \n",
       "76                   False  \n",
       "78                   False  \n",
       "81                   False  \n",
       "87                   False  \n",
       "94                   False  \n",
       "96                   False  \n",
       "98                   False  \n",
       "99                   False  \n",
       "103                  False  "
      ]
     },
     "execution_count": 29,
     "metadata": {},
     "output_type": "execute_result"
    }
   ],
   "source": [
    "testing_data = get_lists(df.filter(df['IsMale'] == 0).filter(df['PickUp_Time'] == 'Day'))\n",
    "\n",
    "# check assumptions\n",
    "check_normality(testing_data)\n",
    "check_homogeneity_of_variances(testing_data)\n",
    "\n",
    "# run tests\n",
    "run_anova(testing_data)\n",
    "results_df = pairwise_mannwhitneyu(testing_data)\n",
    "\n",
    "# save ranking and show significant results\n",
    "res['Women_Day'] = order_by_median(results_df, 'Women_Day')\n",
    "results_df[results_df['p_value_raw']< 0.05]\n"
   ]
  },
  {
   "cell_type": "markdown",
   "metadata": {},
   "source": [
    "#### Women Night"
   ]
  },
  {
   "cell_type": "code",
   "execution_count": 30,
   "metadata": {},
   "outputs": [
    {
     "name": "stdout",
     "output_type": "stream",
     "text": [
      "\n",
      "--- Normality Check (Shapiro-Wilk Test) ---\n",
      "State 7: P-value=0.554\t -> Normal\n",
      "State 15: P-value=0.948\t -> Normal\n",
      "State 11: P-value=0.500\t -> Normal\n",
      "State 3: P-value=0.366\t -> Normal\n",
      "State 8: P-value=0.324\t -> Normal\n",
      "State 5: P-value=0.114\t -> Normal\n",
      "State 6: P-value=0.221\t -> Normal\n",
      "State 9: P-value=0.161\t -> Normal\n",
      "State 1: P-value=0.955\t -> Normal\n",
      "State 10: P-value=0.072\t -> Normal\n",
      "State 4: P-value=0.324\t -> Normal\n",
      "State 12: P-value=0.887\t -> Normal\n",
      "State 13: P-value=0.444\t -> Normal\n",
      "State 14: P-value=0.400\t -> Normal\n",
      "State 2: P-value=0.516\t -> Normal\n",
      "\n",
      "--- Homogeneity of Variances Check (Levene's Test) ---\n",
      "Levene's Test: P-value=0.844\t -> Variances Equal\n",
      "\n",
      "ANOVA: P-value=0.175\n",
      "There is no statistically significant difference between the groups\n",
      "\n"
     ]
    },
    {
     "data": {
      "text/html": [
       "<div>\n",
       "<style scoped>\n",
       "    .dataframe tbody tr th:only-of-type {\n",
       "        vertical-align: middle;\n",
       "    }\n",
       "\n",
       "    .dataframe tbody tr th {\n",
       "        vertical-align: top;\n",
       "    }\n",
       "\n",
       "    .dataframe thead th {\n",
       "        text-align: right;\n",
       "    }\n",
       "</style>\n",
       "<table border=\"1\" class=\"dataframe\">\n",
       "  <thead>\n",
       "    <tr style=\"text-align: right;\">\n",
       "      <th></th>\n",
       "      <th>state1</th>\n",
       "      <th>state2</th>\n",
       "      <th>median1</th>\n",
       "      <th>median2</th>\n",
       "      <th>p_value_raw</th>\n",
       "      <th>p_value_adjusted</th>\n",
       "      <th>significant_after_adj</th>\n",
       "    </tr>\n",
       "  </thead>\n",
       "  <tbody>\n",
       "    <tr>\n",
       "      <th>1</th>\n",
       "      <td>7</td>\n",
       "      <td>11</td>\n",
       "      <td>29.77</td>\n",
       "      <td>21.68</td>\n",
       "      <td>0.022902</td>\n",
       "      <td>1.000000</td>\n",
       "      <td>False</td>\n",
       "    </tr>\n",
       "    <tr>\n",
       "      <th>4</th>\n",
       "      <td>7</td>\n",
       "      <td>5</td>\n",
       "      <td>29.77</td>\n",
       "      <td>42.20</td>\n",
       "      <td>0.022902</td>\n",
       "      <td>1.000000</td>\n",
       "      <td>False</td>\n",
       "    </tr>\n",
       "    <tr>\n",
       "      <th>14</th>\n",
       "      <td>15</td>\n",
       "      <td>11</td>\n",
       "      <td>33.70</td>\n",
       "      <td>21.68</td>\n",
       "      <td>0.025574</td>\n",
       "      <td>1.000000</td>\n",
       "      <td>False</td>\n",
       "    </tr>\n",
       "    <tr>\n",
       "      <th>29</th>\n",
       "      <td>11</td>\n",
       "      <td>5</td>\n",
       "      <td>21.68</td>\n",
       "      <td>42.20</td>\n",
       "      <td>0.003569</td>\n",
       "      <td>0.374706</td>\n",
       "      <td>False</td>\n",
       "    </tr>\n",
       "    <tr>\n",
       "      <th>30</th>\n",
       "      <td>11</td>\n",
       "      <td>6</td>\n",
       "      <td>21.68</td>\n",
       "      <td>43.78</td>\n",
       "      <td>0.017118</td>\n",
       "      <td>1.000000</td>\n",
       "      <td>False</td>\n",
       "    </tr>\n",
       "    <tr>\n",
       "      <th>35</th>\n",
       "      <td>11</td>\n",
       "      <td>12</td>\n",
       "      <td>21.68</td>\n",
       "      <td>34.52</td>\n",
       "      <td>0.006993</td>\n",
       "      <td>0.734266</td>\n",
       "      <td>False</td>\n",
       "    </tr>\n",
       "    <tr>\n",
       "      <th>36</th>\n",
       "      <td>11</td>\n",
       "      <td>13</td>\n",
       "      <td>21.68</td>\n",
       "      <td>39.74</td>\n",
       "      <td>0.042260</td>\n",
       "      <td>1.000000</td>\n",
       "      <td>False</td>\n",
       "    </tr>\n",
       "    <tr>\n",
       "      <th>37</th>\n",
       "      <td>11</td>\n",
       "      <td>14</td>\n",
       "      <td>21.68</td>\n",
       "      <td>37.84</td>\n",
       "      <td>0.016434</td>\n",
       "      <td>1.000000</td>\n",
       "      <td>False</td>\n",
       "    </tr>\n",
       "    <tr>\n",
       "      <th>62</th>\n",
       "      <td>5</td>\n",
       "      <td>1</td>\n",
       "      <td>42.20</td>\n",
       "      <td>28.07</td>\n",
       "      <td>0.049550</td>\n",
       "      <td>1.000000</td>\n",
       "      <td>False</td>\n",
       "    </tr>\n",
       "    <tr>\n",
       "      <th>64</th>\n",
       "      <td>5</td>\n",
       "      <td>4</td>\n",
       "      <td>42.20</td>\n",
       "      <td>26.26</td>\n",
       "      <td>0.046401</td>\n",
       "      <td>1.000000</td>\n",
       "      <td>False</td>\n",
       "    </tr>\n",
       "  </tbody>\n",
       "</table>\n",
       "</div>"
      ],
      "text/plain": [
       "   state1 state2  median1  median2  p_value_raw  p_value_adjusted  \\\n",
       "1       7     11    29.77    21.68     0.022902          1.000000   \n",
       "4       7      5    29.77    42.20     0.022902          1.000000   \n",
       "14     15     11    33.70    21.68     0.025574          1.000000   \n",
       "29     11      5    21.68    42.20     0.003569          0.374706   \n",
       "30     11      6    21.68    43.78     0.017118          1.000000   \n",
       "35     11     12    21.68    34.52     0.006993          0.734266   \n",
       "36     11     13    21.68    39.74     0.042260          1.000000   \n",
       "37     11     14    21.68    37.84     0.016434          1.000000   \n",
       "62      5      1    42.20    28.07     0.049550          1.000000   \n",
       "64      5      4    42.20    26.26     0.046401          1.000000   \n",
       "\n",
       "    significant_after_adj  \n",
       "1                   False  \n",
       "4                   False  \n",
       "14                  False  \n",
       "29                  False  \n",
       "30                  False  \n",
       "35                  False  \n",
       "36                  False  \n",
       "37                  False  \n",
       "62                  False  \n",
       "64                  False  "
      ]
     },
     "execution_count": 30,
     "metadata": {},
     "output_type": "execute_result"
    }
   ],
   "source": [
    "\n",
    "testing_data = get_lists(df.filter(df['IsMale'] == 0).filter(df['PickUp_Time'] == 'Night'))\n",
    "\n",
    "# check assumptions\n",
    "check_normality(testing_data)\n",
    "check_homogeneity_of_variances(testing_data)\n",
    "\n",
    "# run tests\n",
    "run_anova(testing_data)\n",
    "results_df = pairwise_mannwhitneyu(testing_data)\n",
    "\n",
    "# save ranking and show significant results\n",
    "res['Women_Night'] = order_by_median(results_df, 'Women_Night')\n",
    "results_df[results_df['p_value_raw']< 0.05]\n"
   ]
  },
  {
   "cell_type": "markdown",
   "metadata": {},
   "source": [
    "### Results\n",
    "- The results between the statistical tests and the mean earnings are somehwat inconsistent. The statistical tests show only signficant differences, but there is higher chance of type 1 error because of the multiple comparisons that we dont apply bonferroni correction to.\n",
    "\n",
    "However, the following can be deduced:\n",
    "- overall staying in colombo 5 or 13 seems to be the best option.\n",
    "- For men during the day, the tests do not agree and nor does ANOVA find differences so we can say that there is no statistically significant difference.\n",
    "- For men in the night, 13 is agreed by both methods to be the best option. 15 did not have any signifiant comparison so it may be very similar to 13 but also similar to lower order locations.\n",
    "- For women during the day, 13 is the best option. Apart from that there is nothing consistent\n",
    "- For women in the night, 5 seems to be the best option.\n",
    "\n",
    "\n",
    "\n"
   ]
  },
  {
   "cell_type": "code",
   "execution_count": 31,
   "metadata": {},
   "outputs": [
    {
     "name": "stdout",
     "output_type": "stream",
     "text": [
      "Overall\n",
      "Order by Mean: \t\t\t[5, 13, 15, 4, 6, 10, 7, 14, 8, 3, 2, 1, 11, 9, 12]\n",
      "Order by statistical test: \t['13', '5', '1', '9', '12', '11']\n",
      "\n",
      "\n",
      "Men_Day\n",
      "Order by Mean: \t\t\t[3, 7, 2, 14, 5, 4, 8, 6, 12, 10, 9, 11, 15, 1, 13]\n",
      "Order by statistical test: \t['13', '5', '1', '9', '12', '11']\n",
      "\n",
      "\n",
      "Men_Night\n",
      "Order by Mean: \t\t\t[13, 15, 4, 6, 5, 9, 2, 1, 11, 8, 10, 7, 14, 3, 12]\n",
      "Order by statistical test: \t['13', '1', '5', '12', '9', '11']\n",
      "\n",
      "\n",
      "Women_Day\n",
      "Order by Mean: \t\t\t[13, 11, 10, 5, 15, 4, 6, 8, 14, 1, 7, 12, 3, 9, 2]\n",
      "Order by statistical test: \t['13', '5', '12', '1', '9', '11']\n",
      "\n",
      "\n",
      "Women_Night\n",
      "Order by Mean: \t\t\t[5, 6, 14, 13, 15, 12, 10, 2, 3, 7, 1, 9, 4, 8, 11]\n",
      "Order by statistical test: \t['5', '13', '12', '1', '11', '9']\n",
      "\n",
      "\n"
     ]
    }
   ],
   "source": [
    "# display sorted idx for each group\n",
    "for group in grouped.columns:\n",
    "    print(group)\n",
    "    print(f'Order by Mean: \\t\\t\\t{grouped[group].sort_values(ascending=False).index.tolist()}')\n",
    "    print(f'Order by statistical test: \\t{res[group].sort_values(ascending=False).index.tolist()}')\n",
    "    print(\"\\n\")"
   ]
  },
  {
   "cell_type": "markdown",
   "metadata": {},
   "source": [
    "## Part D"
   ]
  },
  {
   "cell_type": "code",
   "execution_count": 32,
   "metadata": {},
   "outputs": [
    {
     "name": "stdout",
     "output_type": "stream",
     "text": [
      "+-----------------+----+------------+-------------------+\n",
      "|PickUp_Colombo_ID| Tip|Total_Amount|     Tip_Percentage|\n",
      "+-----------------+----+------------+-------------------+\n",
      "|                2|4.56|       26.31| 0.1733181299885975|\n",
      "|               11|0.57|       22.32|0.02553763440860215|\n",
      "|               11|3.89|       45.65|0.08521358159912377|\n",
      "|               15|9.64|       35.74| 0.2697257974258534|\n",
      "|                5|5.12|       37.31|0.13722862503350308|\n",
      "+-----------------+----+------------+-------------------+\n",
      "only showing top 5 rows\n",
      "\n"
     ]
    }
   ],
   "source": [
    "tips = df.select('PickUp_Colombo_ID','Tip','Total_Amount')\n",
    "tips = tips.withColumn('Tip_Percentage', tips['Tip']/tips['Total_Amount'])\n",
    "tips.show(5)"
   ]
  },
  {
   "cell_type": "code",
   "execution_count": 33,
   "metadata": {},
   "outputs": [
    {
     "data": {
      "image/png": "[encoded data removed]",
      "text/plain": [
       "<Figure size 800x800 with 1 Axes>"
      ]
     },
     "metadata": {},
     "output_type": "display_data"
    }
   ],
   "source": [
    "from pyspark.sql.functions import when, col, lit, count, mean, sum as F_sum\n",
    "\n",
    "\n",
    "tips_by_state = tips.groupBy('PickUp_Colombo_ID').agg(\n",
    "    mean('Tip_Percentage').alias('Tip_Percentage'),\n",
    "    mean('Tip').alias('Tip'),\n",
    "    (F_sum(when(col('Tip') > 0, 1).otherwise(0)) / count(lit(1))).alias(\"probability_of_tip\"), # Percentage of trips in that state with a tip\n",
    "    count(lit(1)).alias(\"total_trips_in_state\")\n",
    ")\n",
    "\n",
    "tips_by_state = tips_by_state.toPandas().round(2).set_index('PickUp_Colombo_ID')\n",
    "tips_by_state.sort_values(by='Tip_Percentage', ascending=False, inplace=True)\n",
    "\n",
    "# visualise in a heatmap where each column has its own red blue gradient\n",
    "\n",
    "# Create a heatmap\n",
    "import seaborn as sns\n",
    "import matplotlib.pyplot as plt\n",
    "\n",
    "# Create figure with specified size\n",
    "plt.figure(figsize=(8, 8))\n",
    "\n",
    "# Create separate heatmaps for each column by normalizing within column\n",
    "normalized_data = tips_by_state.copy()\n",
    "for col in tips_by_state.columns:\n",
    "    normalized_data[col] = (tips_by_state[col] - tips_by_state[col].min()) / (tips_by_state[col].max() - tips_by_state[col].min())\n",
    "\n",
    "# Create heatmap with column-wise normalization\n",
    "sns.heatmap(normalized_data, \n",
    "            cmap=\"RdBu_r\",\n",
    "            center=0.5,\n",
    "            annot=tips_by_state.round(2), \n",
    "            fmt='.2f',\n",
    "            cbar=False)\n",
    "\n",
    "plt.title('Pickup Location Statistics')\n",
    "plt.show()"
   ]
  },
  {
   "cell_type": "markdown",
   "metadata": {},
   "source": [
    "## Part E"
   ]
  },
  {
   "cell_type": "markdown",
   "metadata": {},
   "source": [
    "### Are there significatly popular routes? If so can we figure out when (time of day/ day of week) they occur?\n",
    "- There dont seem to be any significantly popular routes. Its a gradual increase and Not enough information to say that drivers should relocalte themselves"
   ]
  },
  {
   "cell_type": "code",
   "execution_count": 34,
   "metadata": {},
   "outputs": [
    {
     "data": {
      "text/html": [
       "<div>\n",
       "<style scoped>\n",
       "    .dataframe tbody tr th:only-of-type {\n",
       "        vertical-align: middle;\n",
       "    }\n",
       "\n",
       "    .dataframe tbody tr th {\n",
       "        vertical-align: top;\n",
       "    }\n",
       "\n",
       "    .dataframe thead th {\n",
       "        text-align: right;\n",
       "    }\n",
       "</style>\n",
       "<table border=\"1\" class=\"dataframe\">\n",
       "  <thead>\n",
       "    <tr style=\"text-align: right;\">\n",
       "      <th></th>\n",
       "      <th>PickUp_Colombo_ID</th>\n",
       "      <th>DropOff_Colombo_ID</th>\n",
       "      <th>count</th>\n",
       "      <th>mean_fare</th>\n",
       "    </tr>\n",
       "  </thead>\n",
       "  <tbody>\n",
       "    <tr>\n",
       "      <th>0</th>\n",
       "      <td>1</td>\n",
       "      <td>10</td>\n",
       "      <td>12</td>\n",
       "      <td>27.696667</td>\n",
       "    </tr>\n",
       "    <tr>\n",
       "      <th>1</th>\n",
       "      <td>2</td>\n",
       "      <td>14</td>\n",
       "      <td>10</td>\n",
       "      <td>33.583000</td>\n",
       "    </tr>\n",
       "    <tr>\n",
       "      <th>2</th>\n",
       "      <td>10</td>\n",
       "      <td>7</td>\n",
       "      <td>10</td>\n",
       "      <td>32.655000</td>\n",
       "    </tr>\n",
       "    <tr>\n",
       "      <th>3</th>\n",
       "      <td>10</td>\n",
       "      <td>12</td>\n",
       "      <td>9</td>\n",
       "      <td>29.984444</td>\n",
       "    </tr>\n",
       "    <tr>\n",
       "      <th>4</th>\n",
       "      <td>5</td>\n",
       "      <td>5</td>\n",
       "      <td>9</td>\n",
       "      <td>31.571111</td>\n",
       "    </tr>\n",
       "    <tr>\n",
       "      <th>5</th>\n",
       "      <td>14</td>\n",
       "      <td>14</td>\n",
       "      <td>9</td>\n",
       "      <td>38.201111</td>\n",
       "    </tr>\n",
       "    <tr>\n",
       "      <th>6</th>\n",
       "      <td>8</td>\n",
       "      <td>13</td>\n",
       "      <td>9</td>\n",
       "      <td>38.865556</td>\n",
       "    </tr>\n",
       "    <tr>\n",
       "      <th>7</th>\n",
       "      <td>14</td>\n",
       "      <td>7</td>\n",
       "      <td>9</td>\n",
       "      <td>29.530000</td>\n",
       "    </tr>\n",
       "    <tr>\n",
       "      <th>8</th>\n",
       "      <td>3</td>\n",
       "      <td>14</td>\n",
       "      <td>9</td>\n",
       "      <td>33.250000</td>\n",
       "    </tr>\n",
       "    <tr>\n",
       "      <th>9</th>\n",
       "      <td>11</td>\n",
       "      <td>10</td>\n",
       "      <td>8</td>\n",
       "      <td>33.970000</td>\n",
       "    </tr>\n",
       "  </tbody>\n",
       "</table>\n",
       "</div>"
      ],
      "text/plain": [
       "  PickUp_Colombo_ID DropOff_Colombo_ID  count  mean_fare\n",
       "0                 1                 10     12  27.696667\n",
       "1                 2                 14     10  33.583000\n",
       "2                10                  7     10  32.655000\n",
       "3                10                 12      9  29.984444\n",
       "4                 5                  5      9  31.571111\n",
       "5                14                 14      9  38.201111\n",
       "6                 8                 13      9  38.865556\n",
       "7                14                  7      9  29.530000\n",
       "8                 3                 14      9  33.250000\n",
       "9                11                 10      8  33.970000"
      ]
     },
     "execution_count": 34,
     "metadata": {},
     "output_type": "execute_result"
    }
   ],
   "source": [
    "def get_top_routes(df, k=10):\n",
    "    # get the top k routes by number of trips\n",
    "    top_routes = df.groupBy('PickUp_Colombo_ID', 'DropOff_Colombo_ID').agg(count(lit(1)).alias('count'), mean('Total_Amount').alias('mean_fare')).orderBy('count', ascending=False).limit(k)\n",
    "    return top_routes\n",
    "\n",
    "top_routes = get_top_routes(df, 10)\n",
    "top_routes.toPandas().head(10)"
   ]
  },
  {
   "cell_type": "markdown",
   "metadata": {},
   "source": [
    "### Is the Total Amount Higher when there are more passengers?\n",
    "- number of passengers dont make a difference to the total amount but if there are more passengers, they may be more interested in taking longer trips.\n",
    "- However, there is no significant difference in the total amount when there are more passengers and this doesnt seem to matter."
   ]
  },
  {
   "cell_type": "code",
   "execution_count": 35,
   "metadata": {},
   "outputs": [
    {
     "name": "stdout",
     "output_type": "stream",
     "text": [
      "+------------+------------------+-----------+\n",
      "|N_Passengers|         mean_fare|total_trips|\n",
      "+------------+------------------+-----------+\n",
      "|           4|31.824979919678714|        249|\n",
      "|           3| 32.34919028340082|        247|\n",
      "|           2| 31.25995833333334|        240|\n",
      "|           1|  30.6190114068441|        263|\n",
      "+------------+------------------+-----------+\n",
      "\n"
     ]
    }
   ],
   "source": [
    "passengers_df = df.groupBy('N_Passengers').agg(mean('Total_Amount').alias('mean_fare'), count(lit(1)).alias('total_trips')).orderBy('N_Passengers', ascending=False)\n",
    "passengers_df.show()"
   ]
  },
  {
   "cell_type": "code",
   "execution_count": 36,
   "metadata": {},
   "outputs": [
    {
     "name": "stdout",
     "output_type": "stream",
     "text": [
      "\n",
      "--- Normality Check (Shapiro-Wilk Test) ---\n",
      "State 1: P-value=0.000\t -> Not Normal\n",
      "State 3: P-value=0.000\t -> Not Normal\n",
      "State 4: P-value=0.000\t -> Not Normal\n",
      "State 2: P-value=0.000\t -> Not Normal\n",
      "\n",
      "--- Homogeneity of Variances Check (Levene's Test) ---\n",
      "Levene's Test: P-value=0.096\t -> Variances Equal\n",
      "\n",
      "ANOVA: P-value=0.474\n",
      "There is no statistically significant difference between the groups\n",
      "\n"
     ]
    },
    {
     "data": {
      "text/html": [
       "<div>\n",
       "<style scoped>\n",
       "    .dataframe tbody tr th:only-of-type {\n",
       "        vertical-align: middle;\n",
       "    }\n",
       "\n",
       "    .dataframe tbody tr th {\n",
       "        vertical-align: top;\n",
       "    }\n",
       "\n",
       "    .dataframe thead th {\n",
       "        text-align: right;\n",
       "    }\n",
       "</style>\n",
       "<table border=\"1\" class=\"dataframe\">\n",
       "  <thead>\n",
       "    <tr style=\"text-align: right;\">\n",
       "      <th></th>\n",
       "      <th>state1</th>\n",
       "      <th>state2</th>\n",
       "      <th>median1</th>\n",
       "      <th>median2</th>\n",
       "      <th>p_value_raw</th>\n",
       "      <th>p_value_adjusted</th>\n",
       "      <th>significant_after_adj</th>\n",
       "    </tr>\n",
       "  </thead>\n",
       "  <tbody>\n",
       "  </tbody>\n",
       "</table>\n",
       "</div>"
      ],
      "text/plain": [
       "Empty DataFrame\n",
       "Columns: [state1, state2, median1, median2, p_value_raw, p_value_adjusted, significant_after_adj]\n",
       "Index: []"
      ]
     },
     "execution_count": 36,
     "metadata": {},
     "output_type": "execute_result"
    }
   ],
   "source": [
    "testing_data = get_lists(df, 'N_Passengers')\n",
    "\n",
    "# check assumptions\n",
    "check_normality(testing_data)\n",
    "check_homogeneity_of_variances(testing_data)\n",
    "\n",
    "# run tests\n",
    "run_anova(testing_data)\n",
    "results_df = pairwise_mannwhitneyu(testing_data)\n",
    "results_df[results_df['p_value_raw']< 0.05]"
   ]
  },
  {
   "cell_type": "markdown",
   "metadata": {},
   "source": [
    "### What is the influence of the trip duration on the total ammount?\n",
    "- this is very useful. Trip duration can be easily retreived from something like google maps before accepting a trip. \n",
    "- The relationship is efectively completely linear and it will problably be the strongest predictor of the total amount."
   ]
  },
  {
   "cell_type": "code",
   "execution_count": 37,
   "metadata": {},
   "outputs": [
    {
     "name": "stdout",
     "output_type": "stream",
     "text": [
      "Correlation between duration and total amount: 0.9734603259669365\n"
     ]
    },
    {
     "data": {
      "image/png": "[encoded data removed]",
      "text/plain": [
       "<Figure size 1000x600 with 1 Axes>"
      ]
     },
     "metadata": {},
     "output_type": "display_data"
    }
   ],
   "source": [
    "# get correlation\n",
    "print(f'Correlation between duration and total amount: {df.select(\"Duration_Min\", \"Total_Amount\").corr(\"Duration_Min\", \"Total_Amount\")}')\n",
    "\n",
    "# plot a scatter plot\n",
    "plt.figure(figsize=(10, 6))\n",
    "plt.scatter(df.select('Duration_Min').toPandas(), df.select('Total_Amount').toPandas(), alpha=0.5)\n",
    "plt.xlabel('Duration (Minutes)')\n",
    "plt.ylabel('Total Amount')\n",
    "plt.title('Duration vs Total Amount')\n",
    "plt.show()\n"
   ]
  },
  {
   "cell_type": "markdown",
   "metadata": {},
   "source": [
    "## Part F\n"
   ]
  },
  {
   "cell_type": "markdown",
   "metadata": {},
   "source": [
    "### Key Insight 1: Trip Duration is the Overwhelming Factor in Determining Trip Revenue.\n",
    "\n",
    "- Supporting Analysis: Exploration in Part 3.E, where I examined the relationship between Duration_Min and Total_Amount, revealed a very strong positive linear correlation (0.973).\n",
    "\n",
    "- Description: This indicates that the length of time a trip takes is the primary determinant of the total amount collected (which includes the fare and any tip). While other factors might play minor roles, duration stands out.\n"
   ]
  },
  {
   "cell_type": "markdown",
   "metadata": {},
   "source": [
    "### Key Insight 2: While Overall Average Earnings Show Little Difference by Gender or Weekday/Weekend, Strategic Positioning by Location and Time of Day Can Optimize Earnings for Specific Driver Groups.\n",
    "\n",
    "Supporting Analysis:\n",
    "- Part 3.A: showed no significant difference in average nightly earnings between male and female drivers.\n",
    "- Part 3.B: t-test indicated no statistically significant difference in average earnings between weekends and weekdays.\n",
    "- Part 3.C: analysis of profitable states showed that while overall differences were sometimes not statistically significant after strict corrections, certain pickUp_Colombo_IDs appeared more lucrative for specific gender groups during 'Day' or 'Night' (e.g., Colombo ID 13 for men/night and women/day; Colombo ID 5 for women/night, with Colombo IDs 5 and 13 being good overall performers based on median earnings (and mean) comparisons).\n",
    "\n",
    "Description: \n",
    "- Broadly, drivers (irrespective of gender) or days (weekday vs. weekend) don't show large, statistically significant differences in average earnings. However, the \"best\" pickup locations for profitable fares can change depending on whether it's 'Day' or 'Night' and potentially for male versus female drivers."
   ]
  },
  {
   "cell_type": "markdown",
   "metadata": {},
   "source": [
    "### Key Insight 3: Tipping Behavior Varies by Pickup Location, but Number of Passengers Doesn't Significantly Influence Overall Trip Earnings or Tips.\n",
    "\n",
    "Supporting Analysis:\n",
    "- Part 3.D: The analysis in Part 3.D showed that tipping behavior varied slightly by pickup location, with colombo 6 and 2 showing the highest tip percentages and also the highest absolute tip values\n",
    "- Part 3.E: The analysis in Part 3.E showed that the number of passengers didn't significantly influence overall trip earnings or tips.\n",
    "\n",
    "Description:\n",
    "- Tipping behavior varied by pickup location, but the number of passengers didn't significantly influence overall trip earnings or tips.\n",
    "\n"
   ]
  },
  {
   "cell_type": "markdown",
   "metadata": {},
   "source": [
    "# Part 4"
   ]
  },
  {
   "cell_type": "markdown",
   "metadata": {},
   "source": [
    "## EDA"
   ]
  },
  {
   "cell_type": "markdown",
   "metadata": {},
   "source": [
    "There is no real smooth and ordered syclical pattern so skip the fourier terms"
   ]
  },
  {
   "cell_type": "code",
   "execution_count": 38,
   "metadata": {},
   "outputs": [
    {
     "name": "stdout",
     "output_type": "stream",
     "text": [
      "+---------+------------------+\n",
      "|DayofWeek| mean_total_amount|\n",
      "+---------+------------------+\n",
      "|   Sunday|32.621071428571426|\n",
      "|Wednesday| 32.55862745098039|\n",
      "| Saturday|32.159575757575745|\n",
      "|   Monday|31.659574468085108|\n",
      "|   Friday| 30.53710059171598|\n",
      "| Thursday|30.382330827067694|\n",
      "|  Tuesday| 30.09683673469388|\n",
      "+---------+------------------+\n",
      "\n"
     ]
    }
   ],
   "source": [
    "df.groupBy('DayofWeek').agg(mean('Total_Amount').alias('mean_total_amount')).sort('mean_total_amount', ascending=False).show()\n",
    "\n",
    "# remove DayofWeek column\n",
    "df = df.drop('DayofWeek')\n"
   ]
  },
  {
   "cell_type": "code",
   "execution_count": 39,
   "metadata": {},
   "outputs": [
    {
     "data": {
      "text/html": [
       "<table border='1'>\n",
       "<tr><th>Cab_Driver_ID</th><th>IsMale</th><th>PickUp_Colombo_ID</th><th>DropOff_Colombo_ID</th><th>N_Passengers</th><th>Date</th><th>PickUp_Time</th><th>Duration_Min</th><th>Tip</th><th>Total_Amount</th></tr>\n",
       "<tr><td>10</td><td>1</td><td>12</td><td>9</td><td>4</td><td>2021-07-01</td><td>Night</td><td>14</td><td>1.98</td><td>14.16</td></tr>\n",
       "<tr><td>16</td><td>0</td><td>10</td><td>10</td><td>2</td><td>2021-07-01</td><td>Day</td><td>42</td><td>2.84</td><td>39.38</td></tr>\n",
       "<tr><td>10</td><td>1</td><td>9</td><td>13</td><td>1</td><td>2021-07-01</td><td>Day</td><td>15</td><td>3.47</td><td>16.52</td></tr>\n",
       "<tr><td>19</td><td>0</td><td>11</td><td>10</td><td>3</td><td>2021-07-01</td><td>Day</td><td>53</td><td>9.23</td><td>55.34</td></tr>\n",
       "<tr><td>1</td><td>1</td><td>8</td><td>6</td><td>4</td><td>2021-07-01</td><td>Day</td><td>13</td><td>4.48</td><td>15.79</td></tr>\n",
       "<tr><td>1</td><td>1</td><td>5</td><td>6</td><td>1</td><td>2021-07-02</td><td>Day</td><td>51</td><td>6.6</td><td>50.97</td></tr>\n",
       "<tr><td>11</td><td>1</td><td>6</td><td>11</td><td>4</td><td>2021-07-02</td><td>Day</td><td>16</td><td>3.53</td><td>17.45</td></tr>\n",
       "<tr><td>6</td><td>1</td><td>13</td><td>8</td><td>4</td><td>2021-07-02</td><td>Night</td><td>13</td><td>5.35</td><td>16.66</td></tr>\n",
       "<tr><td>20</td><td>0</td><td>9</td><td>11</td><td>4</td><td>2021-07-02</td><td>Day</td><td>25</td><td>1.15</td><td>22.9</td></tr>\n",
       "<tr><td>5</td><td>1</td><td>11</td><td>1</td><td>4</td><td>2021-07-02</td><td>Day</td><td>12</td><td>2.31</td><td>12.75</td></tr>\n",
       "<tr><td>8</td><td>1</td><td>1</td><td>10</td><td>4</td><td>2021-07-03</td><td>Night</td><td>35</td><td>7.03</td><td>37.48</td></tr>\n",
       "<tr><td>5</td><td>1</td><td>8</td><td>13</td><td>3</td><td>2021-07-03</td><td>Day</td><td>33</td><td>5.39</td><td>34.1</td></tr>\n",
       "<tr><td>19</td><td>0</td><td>13</td><td>14</td><td>3</td><td>2021-07-03</td><td>Day</td><td>48</td><td>1.03</td><td>42.79</td></tr>\n",
       "<tr><td>3</td><td>1</td><td>10</td><td>6</td><td>2</td><td>2021-07-03</td><td>Day</td><td>46</td><td>7.23</td><td>47.25</td></tr>\n",
       "<tr><td>1</td><td>1</td><td>4</td><td>13</td><td>3</td><td>2021-07-03</td><td>Night</td><td>51</td><td>9.76</td><td>54.13</td></tr>\n",
       "<tr><td>12</td><td>1</td><td>4</td><td>10</td><td>3</td><td>2021-07-03</td><td>Night</td><td>38</td><td>9.13</td><td>42.19</td></tr>\n",
       "<tr><td>18</td><td>0</td><td>10</td><td>12</td><td>3</td><td>2021-07-04</td><td>Night</td><td>41</td><td>6.92</td><td>42.59</td></tr>\n",
       "<tr><td>16</td><td>0</td><td>7</td><td>12</td><td>3</td><td>2021-07-04</td><td>Day</td><td>19</td><td>3.66</td><td>20.19</td></tr>\n",
       "<tr><td>10</td><td>1</td><td>1</td><td>2</td><td>3</td><td>2021-07-04</td><td>Day</td><td>31</td><td>6.66</td><td>33.63</td></tr>\n",
       "<tr><td>4</td><td>1</td><td>9</td><td>2</td><td>4</td><td>2021-07-04</td><td>Night</td><td>13</td><td>6.84</td><td>18.15</td></tr>\n",
       "</table>\n",
       "only showing top 20 rows\n"
      ],
      "text/plain": [
       "+-------------+------+-----------------+------------------+------------+----------+-----------+------------+----+------------+\n",
       "|Cab_Driver_ID|IsMale|PickUp_Colombo_ID|DropOff_Colombo_ID|N_Passengers|      Date|PickUp_Time|Duration_Min| Tip|Total_Amount|\n",
       "+-------------+------+-----------------+------------------+------------+----------+-----------+------------+----+------------+\n",
       "|           10|     1|               12|                 9|           4|2021-07-01|      Night|          14|1.98|       14.16|\n",
       "|           16|     0|               10|                10|           2|2021-07-01|        Day|          42|2.84|       39.38|\n",
       "|           10|     1|                9|                13|           1|2021-07-01|        Day|          15|3.47|       16.52|\n",
       "|           19|     0|               11|                10|           3|2021-07-01|        Day|          53|9.23|       55.34|\n",
       "|            1|     1|                8|                 6|           4|2021-07-01|        Day|          13|4.48|       15.79|\n",
       "|            1|     1|                5|                 6|           1|2021-07-02|        Day|          51| 6.6|       50.97|\n",
       "|           11|     1|                6|                11|           4|2021-07-02|        Day|          16|3.53|       17.45|\n",
       "|            6|     1|               13|                 8|           4|2021-07-02|      Night|          13|5.35|       16.66|\n",
       "|           20|     0|                9|                11|           4|2021-07-02|        Day|          25|1.15|        22.9|\n",
       "|            5|     1|               11|                 1|           4|2021-07-02|        Day|          12|2.31|       12.75|\n",
       "|            8|     1|                1|                10|           4|2021-07-03|      Night|          35|7.03|       37.48|\n",
       "|            5|     1|                8|                13|           3|2021-07-03|        Day|          33|5.39|        34.1|\n",
       "|           19|     0|               13|                14|           3|2021-07-03|        Day|          48|1.03|       42.79|\n",
       "|            3|     1|               10|                 6|           2|2021-07-03|        Day|          46|7.23|       47.25|\n",
       "|            1|     1|                4|                13|           3|2021-07-03|      Night|          51|9.76|       54.13|\n",
       "|           12|     1|                4|                10|           3|2021-07-03|      Night|          38|9.13|       42.19|\n",
       "|           18|     0|               10|                12|           3|2021-07-04|      Night|          41|6.92|       42.59|\n",
       "|           16|     0|                7|                12|           3|2021-07-04|        Day|          19|3.66|       20.19|\n",
       "|           10|     1|                1|                 2|           3|2021-07-04|        Day|          31|6.66|       33.63|\n",
       "|            4|     1|                9|                 2|           4|2021-07-04|      Night|          13|6.84|       18.15|\n",
       "+-------------+------+-----------------+------------------+------------+----------+-----------+------------+----+------------+\n",
       "only showing top 20 rows"
      ]
     },
     "execution_count": 39,
     "metadata": {},
     "output_type": "execute_result"
    }
   ],
   "source": [
    "df = df.orderBy('Date', ascending=True)\n",
    "df"
   ]
  },
  {
   "cell_type": "markdown",
   "metadata": {},
   "source": [
    "## Part A\n"
   ]
  },
  {
   "cell_type": "markdown",
   "metadata": {},
   "source": [
    "- 70/30 split for training and testing based on Date to avoid data leakage from the future."
   ]
  },
  {
   "cell_type": "code",
   "execution_count": 40,
   "metadata": {},
   "outputs": [
    {
     "name": "stdout",
     "output_type": "stream",
     "text": [
      "Total rows: 999\n",
      "Training set rows: 699, Expected: 699\n",
      "Testing set rows: 300, Expected: 300\n"
     ]
    }
   ],
   "source": [
    "from pyspark.sql.functions import row_number, monotonically_increasing_id, lit, col\n",
    "from pyspark.sql.window import Window\n",
    "\n",
    "\n",
    "df_ordered = df.withColumn(\"unique_id_for_split\", monotonically_increasing_id())\n",
    "window_spec = Window.orderBy(col(\"Date\"), col(\"unique_id_for_split\"))\n",
    "\n",
    "df_with_index = df_ordered.withColumn(\"row_num\", row_number().over(window_spec))\n",
    "\n",
    "total_rows = df_with_index.count()\n",
    "train_percentage = 0.7\n",
    "split_point = int(total_rows * train_percentage)\n",
    "\n",
    "train_df = df_with_index.filter(col(\"row_num\") <= split_point).drop(\"row_num\", \"unique_id_for_split\")\n",
    "test_df = df_with_index.filter(col(\"row_num\") > split_point).drop(\"row_num\", \"unique_id_for_split\")\n",
    "\n",
    "print(f\"Total rows: {total_rows}\")\n",
    "print(f\"Training set rows: {train_df.count()}, Expected: {split_point}\")\n",
    "print(f\"Testing set rows: {test_df.count()}, Expected: {total_rows - split_point}\")"
   ]
  },
  {
   "cell_type": "markdown",
   "metadata": {},
   "source": [
    "## Part B"
   ]
  },
  {
   "cell_type": "markdown",
   "metadata": {},
   "source": [
    "Feature engineering : Want to preserve interpretability so we avoid using things like PCA and introducing lots of dimensions for now.\n",
    "- drop Cab_driver_ID (we dont want the model to be only for existing cab drivers)\n",
    "- leave isMale as it is\n",
    "- PickUP ID and DropOff ID need to be one hot encoded\n",
    "- N passenders also left as it is\n",
    "- Date in itself is not particularly important since we dont want there to be a temporal component. Instead we use day of the week (one hot encoded).\n",
    "- PickUp_Time is important and we should do a binary encoding for it.\n",
    "- Duration_Minutes will be left as it is\n",
    "- Tip should not be seen by the predictive model as it comes after the trip. drop it in the end.\n",
    "- Total_Amount is the target variable and we should subtract the tip from it to get the amount the driver will see."
   ]
  },
  {
   "cell_type": "code",
   "execution_count": 41,
   "metadata": {},
   "outputs": [
    {
     "name": "stdout",
     "output_type": "stream",
     "text": [
      "+------+-----------------+------------------+------------+-----------+------------+------------------+---------+\n",
      "|IsMale|PickUp_Colombo_ID|DropOff_Colombo_ID|N_Passengers|PickUp_Time|Duration_Min|              Fare|DayOfWeek|\n",
      "+------+-----------------+------------------+------------+-----------+------------+------------------+---------+\n",
      "|     1|               12|                 9|           4|      Night|          14|             12.18|        5|\n",
      "|     0|               10|                10|           2|        Day|          42|36.540000000000006|        5|\n",
      "|     1|                9|                13|           1|        Day|          15|13.049999999999999|        5|\n",
      "|     0|               11|                10|           3|        Day|          53|             46.11|        5|\n",
      "|     1|                8|                 6|           4|        Day|          13|11.309999999999999|        5|\n",
      "+------+-----------------+------------------+------------+-----------+------------+------------------+---------+\n",
      "only showing top 5 rows\n",
      "\n",
      "+------+-----------------+------------------+------------+-----------+------------+------------------+---------+\n",
      "|IsMale|PickUp_Colombo_ID|DropOff_Colombo_ID|N_Passengers|PickUp_Time|Duration_Min|              Fare|DayOfWeek|\n",
      "+------+-----------------+------------------+------------+-----------+------------+------------------+---------+\n",
      "|     0|               14|                 5|           4|        Day|          19|             16.53|        4|\n",
      "|     1|                1|                 8|           4|        Day|          38|             33.06|        5|\n",
      "|     1|                7|                 9|           4|        Day|          55|             47.85|        5|\n",
      "|     1|                1|                 1|           4|        Day|          33|28.709999999999997|        5|\n",
      "|     1|                3|                 7|           4|      Night|           8|              6.96|        5|\n",
      "+------+-----------------+------------------+------------+-----------+------------+------------------+---------+\n",
      "only showing top 5 rows\n",
      "\n"
     ]
    }
   ],
   "source": [
    "from pyspark.sql.functions import dayofweek\n",
    "\n",
    "\n",
    "def initial_transformation(df):\n",
    "    # subtract tip from total amount\n",
    "    df_transformed = df.withColumn(\"Fare\", col(\"Total_Amount\") - col(\"Tip\"))\n",
    "\n",
    "    # add day of the week\n",
    "    df_transformed = df_transformed.withColumn(\"DayOfWeek\", dayofweek(col(\"Date\")))\n",
    "\n",
    "    # drop the columns that are not needed\n",
    "    columns_to_drop = [\"Cab_Driver_ID\", \"Tip\", \"Date\", \"Total_Amount\"]\n",
    "    df_transformed = df_transformed.drop(*columns_to_drop)\n",
    "\n",
    "    return df_transformed\n",
    "\n",
    "train_df = initial_transformation(train_df)\n",
    "test_df = initial_transformation(test_df)\n",
    "\n",
    "train_df.show(5)\n",
    "test_df.show(5)\n",
    "\n",
    "\n"
   ]
  },
  {
   "cell_type": "code",
   "execution_count": 42,
   "metadata": {},
   "outputs": [],
   "source": [
    "from pyspark.ml.feature import OneHotEncoder, StringIndexer, VectorAssembler, StandardScaler\n",
    "from pyspark.ml import Pipeline\n",
    "\n",
    "\n",
    "\n",
    "pipeline_stages = []\n",
    "\n",
    "# leave ismale as it is\n",
    "\n",
    "# OHE pickup and dropoff\n",
    "pickup_indexer = StringIndexer(inputCol=\"PickUp_Colombo_ID\", outputCol=\"PickUp_ID_Index\", handleInvalid=\"keep\")\n",
    "pickup_encoder = OneHotEncoder(inputCol=\"PickUp_ID_Index\", outputCol=\"PickUp_ID_OHE\")\n",
    "pipeline_stages.extend([pickup_indexer, pickup_encoder])\n",
    "\n",
    "dropoff_indexer = StringIndexer(inputCol=\"DropOff_Colombo_ID\", outputCol=\"DropOff_ID_Index\", handleInvalid=\"keep\")\n",
    "dropoff_encoder = OneHotEncoder(inputCol=\"DropOff_ID_Index\", outputCol=\"DropOff_ID_OHE\")\n",
    "pipeline_stages.extend([dropoff_indexer, dropoff_encoder])\n",
    "\n",
    "# leaven_passengers as it is\n",
    "\n",
    "# binary encode pickup_time\n",
    "pickup_time_indexer = StringIndexer(inputCol=\"PickUp_Time\", outputCol=\"PickUp_Time_Binary\", handleInvalid=\"keep\")\n",
    "pipeline_stages.extend([pickup_time_indexer])\n",
    "\n",
    "# leave duration minutes as it is\n",
    "\n",
    "# one hot encode day of the week\n",
    "dayofweek_indexer = StringIndexer(inputCol=\"DayOfWeek\", outputCol=\"DayOfWeek_Index\", handleInvalid=\"keep\")\n",
    "dayofweek_encoder = OneHotEncoder(inputCol=\"DayOfWeek_Index\", outputCol=\"DayOfWeek_OHE\")\n",
    "pipeline_stages.extend([dayofweek_indexer, dayofweek_encoder])\n",
    "\n",
    "\n",
    "\n",
    "# assember\n",
    "feature_columns_to_assemble = [\n",
    "    \"IsMale\", \n",
    "    \"PickUp_ID_OHE\",\n",
    "    \"DropOff_ID_OHE\",\n",
    "    \"N_Passengers\",\n",
    "    \"PickUp_Time_Binary\",\n",
    "    \"Duration_Min\",\n",
    "    \"DayOfWeek_OHE\",\n",
    "]\n",
    "assembler = VectorAssembler(inputCols=feature_columns_to_assemble, outputCol=\"features\")\n",
    "pipeline_stages.extend([assembler])\n",
    "\n",
    "# # add a scaler\n",
    "# scaler = StandardScaler(inputCol=\"features\", outputCol=\"scaled_features\")\n",
    "# pipeline_stages.extend([scaler])\n",
    "\n",
    "\n",
    "\n",
    "# pipeline\n",
    "pipeline = Pipeline(stages=pipeline_stages)"
   ]
  },
  {
   "cell_type": "code",
   "execution_count": 43,
   "metadata": {},
   "outputs": [],
   "source": [
    "fitted_pipe = pipeline.fit(train_df)\n",
    "\n",
    "train_transformed = fitted_pipe.transform(train_df)\n",
    "test_transformed = fitted_pipe.transform(test_df)"
   ]
  },
  {
   "cell_type": "code",
   "execution_count": 44,
   "metadata": {},
   "outputs": [],
   "source": [
    "# train the model\n",
    "from pyspark.ml.regression import LinearRegression\n",
    "\n",
    "lr = LinearRegression(featuresCol=\"features\", labelCol=\"Fare\")\n",
    "\n",
    "lr_model = lr.fit(train_transformed)"
   ]
  },
  {
   "cell_type": "markdown",
   "metadata": {},
   "source": [
    "- residuals look normally distributed with mean very close to zero. \n",
    "- we tend to underpredict at lower fares and overpredict at higher fares - this seems to go away when we normalize the features but that makes the model less interpretable and the overall results remain the same"
   ]
  },
  {
   "cell_type": "code",
   "execution_count": 45,
   "metadata": {},
   "outputs": [
    {
     "data": {
      "image/png": "[encoded data removed]",
      "text/plain": [
       "<Figure size 1000x600 with 1 Axes>"
      ]
     },
     "metadata": {},
     "output_type": "display_data"
    },
    {
     "data": {
      "image/png": "[encoded data removed]",
      "text/plain": [
       "<Figure size 1000x600 with 1 Axes>"
      ]
     },
     "metadata": {},
     "output_type": "display_data"
    },
    {
     "name": "stdout",
     "output_type": "stream",
     "text": [
      "Average residual: [-3.21815377e-14]\n"
     ]
    }
   ],
   "source": [
    "# check residuals\n",
    "residuals = lr_model.transform(train_transformed).select(\"Fare\", \"prediction\")\n",
    "\n",
    "# add column for residuals\n",
    "residuals = residuals.withColumn(\"residuals\", col(\"Fare\") - col(\"prediction\"))\n",
    "\n",
    "# plot residuals against true fare\n",
    "plt.figure(figsize=(10, 6))\n",
    "plt.scatter(residuals.select(\"Fare\").toPandas(), residuals.select(\"residuals\").toPandas(), alpha=0.5)\n",
    "plt.xlabel(\"Trip Fare\")\n",
    "plt.ylabel(\"Residuals\")\n",
    "plt.title(\"Residuals vs Trip Fare\")\n",
    "plt.show()\n",
    "\n",
    "\n",
    "# plot residuals histogram\n",
    "plt.figure(figsize=(10, 6))\n",
    "plt.hist(residuals.select(\"residuals\").toPandas(), bins=20, edgecolor='black')\n",
    "plt.xlabel(\"Residuals\")\n",
    "plt.ylabel(\"Frequency\")\n",
    "plt.title(\"Histogram of Residuals\")\n",
    "plt.show()\n",
    "\n",
    "\n",
    "# print average residual\n",
    "print(f\"Average residual: {residuals.select(mean('residuals')).toPandas().values[0]}\")"
   ]
  },
  {
   "cell_type": "code",
   "execution_count": 46,
   "metadata": {},
   "outputs": [
    {
     "name": "stdout",
     "output_type": "stream",
     "text": [
      "\n",
      "Making predictions on the test data...\n",
      "\n",
      "Sample predictions (showing features, Fare, and prediction):\n",
      "+--------------------------------------------------------+------------------+------------------+\n",
      "|features                                                |Fare              |prediction        |\n",
      "+--------------------------------------------------------+------------------+------------------+\n",
      "|(42,[2,21,32,34,37],[1.0,1.0,4.0,19.0,1.0])             |16.53             |16.529999999999973|\n",
      "|(42,[0,10,25,32,34,40],[1.0,1.0,1.0,4.0,38.0,1.0])      |33.06             |33.060000000000116|\n",
      "|(42,[0,9,26,32,34,40],[1.0,1.0,1.0,4.0,55.0,1.0])       |47.85             |47.85000000000025 |\n",
      "|(42,[0,10,27,32,34,40],[1.0,1.0,1.0,4.0,33.0,1.0])      |28.709999999999997|28.710000000000036|\n",
      "|(42,[0,14,19,32,33,34,40],[1.0,1.0,1.0,4.0,1.0,8.0,1.0])|6.96              |6.959999999999809 |\n",
      "+--------------------------------------------------------+------------------+------------------+\n",
      "only showing top 5 rows\n",
      "\n"
     ]
    },
    {
     "data": {
      "image/png": "[encoded data removed]",
      "text/plain": [
       "<Figure size 1000x600 with 1 Axes>"
      ]
     },
     "metadata": {},
     "output_type": "display_data"
    },
    {
     "name": "stdout",
     "output_type": "stream",
     "text": [
      "\n",
      "Evaluating model performance...\n",
      "\n",
      "--- Model Evaluation Metrics ---\n",
      "Root Mean Squared Error (RMSE) on test data: 0.0000\n",
      "Mean Squared Error (MSE) on test data: 0.0000\n",
      "R-squared (R2) on test data: 1.0000\n",
      "Mean Absolute Error (MAE) on test data: 0.0000\n"
     ]
    }
   ],
   "source": [
    "from pyspark.ml.evaluation import RegressionEvaluator\n",
    "\n",
    "print(\"\\nMaking predictions on the test data...\")\n",
    "predictions_df = lr_model.transform(test_transformed)\n",
    "\n",
    "print(\"\\nSample predictions (showing features, Fare, and prediction):\")\n",
    "predictions_df.select(\"features\", \"Fare\", \"prediction\").show(5, truncate=False)\n",
    "\n",
    "\n",
    "# plot predictions vs true fare\n",
    "plt.figure(figsize=(10, 6))\n",
    "plt.scatter(predictions_df.select(\"Fare\").toPandas(), predictions_df.select(\"prediction\").toPandas(), alpha=0.5)\n",
    "plt.xlabel(\"True Fare\")\n",
    "plt.ylabel(\"Predicted Fare\")\n",
    "plt.title(\"Predictions vs True Fare\")\n",
    "plt.show()\n",
    "\n",
    "# print evaluation metrics\n",
    "print(\"\\nEvaluating model performance...\")\n",
    "\n",
    "# Create a RegressionEvaluator\n",
    "evaluator_rmse = RegressionEvaluator(labelCol=\"Fare\", predictionCol=\"prediction\", metricName=\"rmse\")\n",
    "evaluator_mse = RegressionEvaluator(labelCol=\"Fare\", predictionCol=\"prediction\", metricName=\"mse\")\n",
    "evaluator_r2 = RegressionEvaluator(labelCol=\"Fare\", predictionCol=\"prediction\", metricName=\"r2\")\n",
    "evaluator_mae = RegressionEvaluator(labelCol=\"Fare\", predictionCol=\"prediction\", metricName=\"mae\")\n",
    "\n",
    "rmse = evaluator_rmse.evaluate(predictions_df)\n",
    "mse = evaluator_mse.evaluate(predictions_df)\n",
    "r2 = evaluator_r2.evaluate(predictions_df)\n",
    "mae = evaluator_mae.evaluate(predictions_df)\n",
    "\n",
    "print(f\"\\n--- Model Evaluation Metrics ---\")\n",
    "print(f\"Root Mean Squared Error (RMSE) on test data: {rmse:.4f}\")\n",
    "print(f\"Mean Squared Error (MSE) on test data: {mse:.4f}\")\n",
    "print(f\"R-squared (R2) on test data: {r2:.4f}\")\n",
    "print(f\"Mean Absolute Error (MAE) on test data: {mae:.4f}\")\n",
    "\n"
   ]
  },
  {
   "cell_type": "markdown",
   "metadata": {},
   "source": [
    "- The model seems a bit too good to be true. But I checked the pipeline and it seems like the relationship is completely linear."
   ]
  },
  {
   "cell_type": "markdown",
   "metadata": {},
   "source": [
    "## Part C"
   ]
  },
  {
   "cell_type": "markdown",
   "metadata": {},
   "source": [
    "Now lets interpret the model and give reccomendations to drivers"
   ]
  },
  {
   "cell_type": "code",
   "execution_count": 47,
   "metadata": {},
   "outputs": [
    {
     "name": "stderr",
     "output_type": "stream",
     "text": [
      "/var/folders/26/gpxb1mwx5zd590_4yvmsyt0m0000gn/T/ipykernel_9210/2188332348.py:59: FutureWarning: \n",
      "\n",
      "Passing `palette` without assigning `hue` is deprecated and will be removed in v0.14.0. Assign the `y` variable to `hue` and set `legend=False` for the same effect.\n",
      "\n",
      "  sns.barplot(x='Coefficient', y='Feature', data=top_positive_coeffs_df, palette=\"viridis\")\n"
     ]
    },
    {
     "data": {
      "image/png": "[encoded data removed]",
      "text/plain": [
       "<Figure size 1200x600 with 1 Axes>"
      ]
     },
     "metadata": {},
     "output_type": "display_data"
    }
   ],
   "source": [
    "def get_feature_names_from_metadata(df_with_features_col, features_col_name=\"features\"):\n",
    "        schema = df_with_features_col.schema\n",
    "\n",
    "        attrs_metadata = schema[features_col_name].metadata.get(\"ml_attr\", {})\n",
    "        \n",
    "        # Check if 'attrs' or 'attributes' key exists (Spark versions might vary slightly)\n",
    "        attrs_list_container = attrs_metadata.get(\"attrs\", attrs_metadata.get(\"attributes\"))\n",
    "\n",
    "        feature_names = []\n",
    "        # attrs_list_container can have 'numeric' and 'binary' (or 'nominal') keys\n",
    "        all_attrs_list = []\n",
    "        if \"numeric\" in attrs_list_container:\n",
    "            all_attrs_list.extend(attrs_list_container[\"numeric\"])\n",
    "        if \"binary\" in attrs_list_container: # For OHE features typically\n",
    "            all_attrs_list.extend(attrs_list_container[\"binary\"])\n",
    "        if \"nominal\" in attrs_list_container: # Sometimes used instead of/with binary\n",
    "             all_attrs_list.extend(attrs_list_container[\"nominal\"])\n",
    "        \n",
    "        if not all_attrs_list:\n",
    "            print(f\"Warning: No 'numeric', 'binary', or 'nominal' attributes found in metadata for '{features_col_name}'.\")\n",
    "            return None\n",
    "\n",
    "\n",
    "        for attr in all_attrs_list:\n",
    "            if \"idx\" not in attr:\n",
    "                print(f\"Warning: Attribute {attr.get('name', 'Unknown')} is missing 'idx'. Cannot guarantee order.\")\n",
    "        \n",
    "        # Let's try sorting if 'idx' is present, otherwise use the order as received.\n",
    "        if all(isinstance(attr, dict) and \"idx\" in attr for attr in all_attrs_list):\n",
    "            all_attrs_sorted = sorted(all_attrs_list, key=lambda x: x[\"idx\"])\n",
    "        else:\n",
    "            print(\"Warning: Not all attributes have an 'idx' field. Using order as received from metadata.\")\n",
    "            all_attrs_sorted = all_attrs_list # Rely on Spark's internal order\n",
    "\n",
    "        feature_names = [attr.get(\"name\", f\"unknown_feature_{i}\") for i, attr in enumerate(all_attrs_sorted)]\n",
    "        \n",
    "        return feature_names\n",
    "    \n",
    "\n",
    "def plot_coefficients(model_coeffs, feature_names, k = 10):\n",
    "    if len(model_coeffs) != len(feature_names):\n",
    "        print(f\"Error: Mismatch between number of coefficients ({len(model_coeffs)}) and feature names ({len(feature_names)}). Cannot plot.\")\n",
    "        return\n",
    "\n",
    "    coeff_df = pd.DataFrame({'Feature': feature_names, 'Coefficient': model_coeffs})\n",
    "    positive_coeffs_df = coeff_df[coeff_df['Coefficient'] > 0].copy()\n",
    "\n",
    "    if positive_coeffs_df.empty:\n",
    "        print(\"No features found with a positive coefficient.\")\n",
    "        return\n",
    "\n",
    "    top_positive_coeffs_df = positive_coeffs_df.sort_values(by='Coefficient', ascending=False).head(k)\n",
    "\n",
    "    if top_positive_coeffs_df.empty:\n",
    "        print(f\"No positive coefficients to plot for top {k}.\")\n",
    "        return\n",
    "\n",
    "    plt.figure(figsize=(12, k * 0.6))\n",
    "    sns.barplot(x='Coefficient', y='Feature', data=top_positive_coeffs_df, palette=\"viridis\")\n",
    "    plt.title(f'Top {len(top_positive_coeffs_df)} Features Increasing Fare', fontsize=16)\n",
    "    plt.xlabel('Coefficient Value (Impact on Fare)', fontsize=13)\n",
    "    plt.ylabel('Feature', fontsize=13)\n",
    "    plt.yticks(fontsize=10)\n",
    "    plt.xticks(fontsize=10)\n",
    "    plt.tight_layout()\n",
    "    plt.show()\n",
    "     \n",
    "\n",
    "feature_names = get_feature_names_from_metadata(train_transformed, \"features\")\n",
    "\n",
    "plot_coefficients(lr_model.coefficients, feature_names, k=10)"
   ]
  },
  {
   "cell_type": "markdown",
   "metadata": {},
   "source": [
    "- The conclusion is that drivers should focus almost entirely on the duration of the trip. For every (approximately) 54 seconds they travel, they can expect to make 1 unit of fare - check how long the trip will take on google maps.\n",
    "\n",
    "- This can be integrated into the meter but it doesnt do anything additional from what the meter already does. If anything, the meter also takes distance into consideration so it might be better to leave it as is.\n"
   ]
  }
 ],
 "metadata": {
  "kernelspec": {
   "display_name": "spark",
   "language": "python",
   "name": "python3"
  },
  "language_info": {
   "codemirror_mode": {
    "name": "ipython",
    "version": 3
   },
   "file_extension": ".py",
   "mimetype": "text/x-python",
   "name": "python",
   "nbconvert_exporter": "python",
   "pygments_lexer": "ipython3",
   "version": "3.12.9"
  }
 },
 "nbformat": 4,
 "nbformat_minor": 2
}
